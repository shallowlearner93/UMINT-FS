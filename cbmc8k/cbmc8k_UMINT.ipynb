{
 "cells": [
  {
   "cell_type": "markdown",
   "id": "add8f876",
   "metadata": {
    "id": "add8f876"
   },
   "source": [
    "# Importing libraries"
   ]
  },
  {
   "cell_type": "code",
   "execution_count": 1,
   "id": "52f713f7",
   "metadata": {
    "id": "52f713f7"
   },
   "outputs": [],
   "source": [
    "import warnings\n",
    "warnings.simplefilter(action='ignore')\n",
    "\n",
    "import os\n",
    "os.environ['TF_CPP_MIN_LOG_LEVEL'] = '3' \n",
    "\n",
    "import sys\n",
    "sys.path.append('/home/chayan/UMINTFS/')\n",
    "\n",
    "import umap\n",
    "import random\n",
    "import numpy as np\n",
    "import pandas as pd\n",
    "from utills import umint\n",
    "from utills import datasets as ds"
   ]
  },
  {
   "cell_type": "markdown",
   "id": "94d266c5",
   "metadata": {
    "id": "94d266c5"
   },
   "source": [
    "# Loading Data"
   ]
  },
  {
   "cell_type": "code",
   "execution_count": 2,
   "id": "4e133c96",
   "metadata": {
    "id": "4e133c96"
   },
   "outputs": [],
   "source": [
    "dataname = 'cbmc8k'\n",
    "x1, x2, y = ds.LoadData(dataname)"
   ]
  },
  {
   "cell_type": "code",
   "execution_count": 3,
   "id": "4a0d53cf",
   "metadata": {},
   "outputs": [
    {
     "data": {
      "text/html": [
       "<div>\n",
       "<style scoped>\n",
       "    .dataframe tbody tr th:only-of-type {\n",
       "        vertical-align: middle;\n",
       "    }\n",
       "\n",
       "    .dataframe tbody tr th {\n",
       "        vertical-align: top;\n",
       "    }\n",
       "\n",
       "    .dataframe thead th {\n",
       "        text-align: right;\n",
       "    }\n",
       "</style>\n",
       "<table border=\"1\" class=\"dataframe\">\n",
       "  <thead>\n",
       "    <tr style=\"text-align: right;\">\n",
       "      <th></th>\n",
       "      <th>A4GALT</th>\n",
       "      <th>ABCB10</th>\n",
       "      <th>ABCC3</th>\n",
       "      <th>ABCG2</th>\n",
       "      <th>ABI3</th>\n",
       "      <th>AC002454.1</th>\n",
       "      <th>AC004381.6</th>\n",
       "      <th>AC004791.2</th>\n",
       "      <th>AC005339.2</th>\n",
       "      <th>AC005356.1</th>\n",
       "      <th>...</th>\n",
       "      <th>MOUSE-Rtn4</th>\n",
       "      <th>MOUSE-Ppp1ca</th>\n",
       "      <th>MOUSE-Cald1</th>\n",
       "      <th>MOUSE-Rps26</th>\n",
       "      <th>MOUSE-Ctsl</th>\n",
       "      <th>MOUSE-Tnfrsf12a</th>\n",
       "      <th>MOUSE-Esd</th>\n",
       "      <th>MOUSE-Acta2</th>\n",
       "      <th>MOUSE-Arpc2</th>\n",
       "      <th>MOUSE-Calr</th>\n",
       "    </tr>\n",
       "  </thead>\n",
       "  <tbody>\n",
       "    <tr>\n",
       "      <th>CTGTTTACACCGCTAG</th>\n",
       "      <td>0.0</td>\n",
       "      <td>0.0</td>\n",
       "      <td>0.0</td>\n",
       "      <td>0.0</td>\n",
       "      <td>0.0</td>\n",
       "      <td>0.0</td>\n",
       "      <td>0.0</td>\n",
       "      <td>0.0</td>\n",
       "      <td>0.0</td>\n",
       "      <td>0.0</td>\n",
       "      <td>...</td>\n",
       "      <td>0.701941</td>\n",
       "      <td>0.723720</td>\n",
       "      <td>0.813318</td>\n",
       "      <td>0.522753</td>\n",
       "      <td>0.800646</td>\n",
       "      <td>0.800112</td>\n",
       "      <td>0.705251</td>\n",
       "      <td>0.203630</td>\n",
       "      <td>0.808490</td>\n",
       "      <td>0.527913</td>\n",
       "    </tr>\n",
       "    <tr>\n",
       "      <th>CTCTACGGTGTGGCTC</th>\n",
       "      <td>0.0</td>\n",
       "      <td>0.0</td>\n",
       "      <td>0.0</td>\n",
       "      <td>0.0</td>\n",
       "      <td>0.0</td>\n",
       "      <td>0.0</td>\n",
       "      <td>0.0</td>\n",
       "      <td>0.0</td>\n",
       "      <td>0.0</td>\n",
       "      <td>0.0</td>\n",
       "      <td>...</td>\n",
       "      <td>0.660916</td>\n",
       "      <td>0.817508</td>\n",
       "      <td>0.672634</td>\n",
       "      <td>0.686815</td>\n",
       "      <td>0.673267</td>\n",
       "      <td>0.758410</td>\n",
       "      <td>0.712368</td>\n",
       "      <td>0.541833</td>\n",
       "      <td>0.724125</td>\n",
       "      <td>0.586252</td>\n",
       "    </tr>\n",
       "    <tr>\n",
       "      <th>AGCAGCCAGGCTCATT</th>\n",
       "      <td>0.0</td>\n",
       "      <td>0.0</td>\n",
       "      <td>0.0</td>\n",
       "      <td>0.0</td>\n",
       "      <td>0.0</td>\n",
       "      <td>0.0</td>\n",
       "      <td>0.0</td>\n",
       "      <td>0.0</td>\n",
       "      <td>0.0</td>\n",
       "      <td>0.0</td>\n",
       "      <td>...</td>\n",
       "      <td>0.726985</td>\n",
       "      <td>0.837928</td>\n",
       "      <td>0.687397</td>\n",
       "      <td>0.698660</td>\n",
       "      <td>0.752412</td>\n",
       "      <td>0.838036</td>\n",
       "      <td>0.600332</td>\n",
       "      <td>0.412726</td>\n",
       "      <td>0.795093</td>\n",
       "      <td>0.765478</td>\n",
       "    </tr>\n",
       "    <tr>\n",
       "      <th>GAATAAGAGATCCCAT</th>\n",
       "      <td>0.0</td>\n",
       "      <td>0.0</td>\n",
       "      <td>0.0</td>\n",
       "      <td>0.0</td>\n",
       "      <td>0.0</td>\n",
       "      <td>0.0</td>\n",
       "      <td>0.0</td>\n",
       "      <td>0.0</td>\n",
       "      <td>0.0</td>\n",
       "      <td>0.0</td>\n",
       "      <td>...</td>\n",
       "      <td>0.705463</td>\n",
       "      <td>0.824022</td>\n",
       "      <td>0.671555</td>\n",
       "      <td>0.747427</td>\n",
       "      <td>0.642838</td>\n",
       "      <td>0.702704</td>\n",
       "      <td>0.732823</td>\n",
       "      <td>0.419711</td>\n",
       "      <td>0.755683</td>\n",
       "      <td>0.817017</td>\n",
       "    </tr>\n",
       "    <tr>\n",
       "      <th>GTGCATAGTCATGCAT</th>\n",
       "      <td>0.0</td>\n",
       "      <td>0.0</td>\n",
       "      <td>0.0</td>\n",
       "      <td>0.0</td>\n",
       "      <td>0.0</td>\n",
       "      <td>0.0</td>\n",
       "      <td>0.0</td>\n",
       "      <td>0.0</td>\n",
       "      <td>0.0</td>\n",
       "      <td>0.0</td>\n",
       "      <td>...</td>\n",
       "      <td>0.683721</td>\n",
       "      <td>0.921567</td>\n",
       "      <td>0.777735</td>\n",
       "      <td>0.715994</td>\n",
       "      <td>0.491080</td>\n",
       "      <td>0.657864</td>\n",
       "      <td>0.428792</td>\n",
       "      <td>0.885118</td>\n",
       "      <td>0.890060</td>\n",
       "      <td>0.609801</td>\n",
       "    </tr>\n",
       "  </tbody>\n",
       "</table>\n",
       "<p>5 rows × 2000 columns</p>\n",
       "</div>"
      ],
      "text/plain": [
       "                  A4GALT  ABCB10  ABCC3  ABCG2  ABI3  AC002454.1  AC004381.6  \\\n",
       "CTGTTTACACCGCTAG     0.0     0.0    0.0    0.0   0.0         0.0         0.0   \n",
       "CTCTACGGTGTGGCTC     0.0     0.0    0.0    0.0   0.0         0.0         0.0   \n",
       "AGCAGCCAGGCTCATT     0.0     0.0    0.0    0.0   0.0         0.0         0.0   \n",
       "GAATAAGAGATCCCAT     0.0     0.0    0.0    0.0   0.0         0.0         0.0   \n",
       "GTGCATAGTCATGCAT     0.0     0.0    0.0    0.0   0.0         0.0         0.0   \n",
       "\n",
       "                  AC004791.2  AC005339.2  AC005356.1  ...  MOUSE-Rtn4  \\\n",
       "CTGTTTACACCGCTAG         0.0         0.0         0.0  ...    0.701941   \n",
       "CTCTACGGTGTGGCTC         0.0         0.0         0.0  ...    0.660916   \n",
       "AGCAGCCAGGCTCATT         0.0         0.0         0.0  ...    0.726985   \n",
       "GAATAAGAGATCCCAT         0.0         0.0         0.0  ...    0.705463   \n",
       "GTGCATAGTCATGCAT         0.0         0.0         0.0  ...    0.683721   \n",
       "\n",
       "                  MOUSE-Ppp1ca  MOUSE-Cald1  MOUSE-Rps26  MOUSE-Ctsl  \\\n",
       "CTGTTTACACCGCTAG      0.723720     0.813318     0.522753    0.800646   \n",
       "CTCTACGGTGTGGCTC      0.817508     0.672634     0.686815    0.673267   \n",
       "AGCAGCCAGGCTCATT      0.837928     0.687397     0.698660    0.752412   \n",
       "GAATAAGAGATCCCAT      0.824022     0.671555     0.747427    0.642838   \n",
       "GTGCATAGTCATGCAT      0.921567     0.777735     0.715994    0.491080   \n",
       "\n",
       "                  MOUSE-Tnfrsf12a  MOUSE-Esd  MOUSE-Acta2  MOUSE-Arpc2  \\\n",
       "CTGTTTACACCGCTAG         0.800112   0.705251     0.203630     0.808490   \n",
       "CTCTACGGTGTGGCTC         0.758410   0.712368     0.541833     0.724125   \n",
       "AGCAGCCAGGCTCATT         0.838036   0.600332     0.412726     0.795093   \n",
       "GAATAAGAGATCCCAT         0.702704   0.732823     0.419711     0.755683   \n",
       "GTGCATAGTCATGCAT         0.657864   0.428792     0.885118     0.890060   \n",
       "\n",
       "                  MOUSE-Calr  \n",
       "CTGTTTACACCGCTAG    0.527913  \n",
       "CTCTACGGTGTGGCTC    0.586252  \n",
       "AGCAGCCAGGCTCATT    0.765478  \n",
       "GAATAAGAGATCCCAT    0.817017  \n",
       "GTGCATAGTCATGCAT    0.609801  \n",
       "\n",
       "[5 rows x 2000 columns]"
      ]
     },
     "execution_count": 3,
     "metadata": {},
     "output_type": "execute_result"
    }
   ],
   "source": [
    "x1.head()"
   ]
  },
  {
   "cell_type": "code",
   "execution_count": 4,
   "id": "2f40b338",
   "metadata": {},
   "outputs": [
    {
     "data": {
      "text/html": [
       "<div>\n",
       "<style scoped>\n",
       "    .dataframe tbody tr th:only-of-type {\n",
       "        vertical-align: middle;\n",
       "    }\n",
       "\n",
       "    .dataframe tbody tr th {\n",
       "        vertical-align: top;\n",
       "    }\n",
       "\n",
       "    .dataframe thead th {\n",
       "        text-align: right;\n",
       "    }\n",
       "</style>\n",
       "<table border=\"1\" class=\"dataframe\">\n",
       "  <thead>\n",
       "    <tr style=\"text-align: right;\">\n",
       "      <th></th>\n",
       "      <th>CD3</th>\n",
       "      <th>CD4</th>\n",
       "      <th>CD8</th>\n",
       "      <th>CD45RA</th>\n",
       "      <th>CD56</th>\n",
       "      <th>CD16</th>\n",
       "      <th>CD11c</th>\n",
       "      <th>CD14</th>\n",
       "      <th>CD19</th>\n",
       "      <th>CD34</th>\n",
       "    </tr>\n",
       "  </thead>\n",
       "  <tbody>\n",
       "    <tr>\n",
       "      <th>CTGTTTACACCGCTAG</th>\n",
       "      <td>0.106969</td>\n",
       "      <td>0.148856</td>\n",
       "      <td>0.108512</td>\n",
       "      <td>0.227909</td>\n",
       "      <td>0.120278</td>\n",
       "      <td>0.365585</td>\n",
       "      <td>0.153699</td>\n",
       "      <td>0.368842</td>\n",
       "      <td>0.135703</td>\n",
       "      <td>0.447006</td>\n",
       "    </tr>\n",
       "    <tr>\n",
       "      <th>CTCTACGGTGTGGCTC</th>\n",
       "      <td>0.078557</td>\n",
       "      <td>0.084523</td>\n",
       "      <td>0.073025</td>\n",
       "      <td>0.571999</td>\n",
       "      <td>0.109627</td>\n",
       "      <td>0.231799</td>\n",
       "      <td>0.116187</td>\n",
       "      <td>0.202995</td>\n",
       "      <td>0.555313</td>\n",
       "      <td>0.205243</td>\n",
       "    </tr>\n",
       "    <tr>\n",
       "      <th>AGCAGCCAGGCTCATT</th>\n",
       "      <td>0.157329</td>\n",
       "      <td>0.225018</td>\n",
       "      <td>0.091061</td>\n",
       "      <td>0.264110</td>\n",
       "      <td>0.161577</td>\n",
       "      <td>0.293015</td>\n",
       "      <td>0.136911</td>\n",
       "      <td>0.320201</td>\n",
       "      <td>0.154963</td>\n",
       "      <td>0.240348</td>\n",
       "    </tr>\n",
       "    <tr>\n",
       "      <th>GAATAAGAGATCCCAT</th>\n",
       "      <td>0.139480</td>\n",
       "      <td>0.192626</td>\n",
       "      <td>0.115261</td>\n",
       "      <td>0.219731</td>\n",
       "      <td>0.153280</td>\n",
       "      <td>0.290085</td>\n",
       "      <td>0.131533</td>\n",
       "      <td>0.356361</td>\n",
       "      <td>0.137720</td>\n",
       "      <td>0.334845</td>\n",
       "    </tr>\n",
       "    <tr>\n",
       "      <th>GTGCATAGTCATGCAT</th>\n",
       "      <td>0.102479</td>\n",
       "      <td>0.150629</td>\n",
       "      <td>0.120622</td>\n",
       "      <td>0.231560</td>\n",
       "      <td>0.169183</td>\n",
       "      <td>0.352295</td>\n",
       "      <td>0.164698</td>\n",
       "      <td>0.278558</td>\n",
       "      <td>0.142276</td>\n",
       "      <td>0.372073</td>\n",
       "    </tr>\n",
       "  </tbody>\n",
       "</table>\n",
       "</div>"
      ],
      "text/plain": [
       "                       CD3       CD4       CD8    CD45RA      CD56      CD16  \\\n",
       "CTGTTTACACCGCTAG  0.106969  0.148856  0.108512  0.227909  0.120278  0.365585   \n",
       "CTCTACGGTGTGGCTC  0.078557  0.084523  0.073025  0.571999  0.109627  0.231799   \n",
       "AGCAGCCAGGCTCATT  0.157329  0.225018  0.091061  0.264110  0.161577  0.293015   \n",
       "GAATAAGAGATCCCAT  0.139480  0.192626  0.115261  0.219731  0.153280  0.290085   \n",
       "GTGCATAGTCATGCAT  0.102479  0.150629  0.120622  0.231560  0.169183  0.352295   \n",
       "\n",
       "                     CD11c      CD14      CD19      CD34  \n",
       "CTGTTTACACCGCTAG  0.153699  0.368842  0.135703  0.447006  \n",
       "CTCTACGGTGTGGCTC  0.116187  0.202995  0.555313  0.205243  \n",
       "AGCAGCCAGGCTCATT  0.136911  0.320201  0.154963  0.240348  \n",
       "GAATAAGAGATCCCAT  0.131533  0.356361  0.137720  0.334845  \n",
       "GTGCATAGTCATGCAT  0.164698  0.278558  0.142276  0.372073  "
      ]
     },
     "execution_count": 4,
     "metadata": {},
     "output_type": "execute_result"
    }
   ],
   "source": [
    "x2.head()"
   ]
  },
  {
   "cell_type": "code",
   "execution_count": 5,
   "id": "d13d4031",
   "metadata": {},
   "outputs": [
    {
     "data": {
      "text/html": [
       "<div>\n",
       "<style scoped>\n",
       "    .dataframe tbody tr th:only-of-type {\n",
       "        vertical-align: middle;\n",
       "    }\n",
       "\n",
       "    .dataframe tbody tr th {\n",
       "        vertical-align: top;\n",
       "    }\n",
       "\n",
       "    .dataframe thead th {\n",
       "        text-align: right;\n",
       "    }\n",
       "</style>\n",
       "<table border=\"1\" class=\"dataframe\">\n",
       "  <thead>\n",
       "    <tr style=\"text-align: right;\">\n",
       "      <th></th>\n",
       "      <th>rna_annotations</th>\n",
       "    </tr>\n",
       "  </thead>\n",
       "  <tbody>\n",
       "    <tr>\n",
       "      <th>CTGTTTACACCGCTAG</th>\n",
       "      <td>Mouse</td>\n",
       "    </tr>\n",
       "    <tr>\n",
       "      <th>CTCTACGGTGTGGCTC</th>\n",
       "      <td>Mouse</td>\n",
       "    </tr>\n",
       "    <tr>\n",
       "      <th>AGCAGCCAGGCTCATT</th>\n",
       "      <td>Mouse</td>\n",
       "    </tr>\n",
       "    <tr>\n",
       "      <th>GAATAAGAGATCCCAT</th>\n",
       "      <td>Mouse</td>\n",
       "    </tr>\n",
       "    <tr>\n",
       "      <th>GTGCATAGTCATGCAT</th>\n",
       "      <td>Mouse</td>\n",
       "    </tr>\n",
       "  </tbody>\n",
       "</table>\n",
       "</div>"
      ],
      "text/plain": [
       "                 rna_annotations\n",
       "CTGTTTACACCGCTAG           Mouse\n",
       "CTCTACGGTGTGGCTC           Mouse\n",
       "AGCAGCCAGGCTCATT           Mouse\n",
       "GAATAAGAGATCCCAT           Mouse\n",
       "GTGCATAGTCATGCAT           Mouse"
      ]
     },
     "execution_count": 5,
     "metadata": {},
     "output_type": "execute_result"
    }
   ],
   "source": [
    "y.head()"
   ]
  },
  {
   "cell_type": "markdown",
   "id": "16bcd474",
   "metadata": {
    "id": "16bcd474"
   },
   "source": [
    "# Proposed UMINT architecture\n",
    "![download.png](data:image/png;base64,iVBORw0KGgoAAAANSUhEUgAAA8UAAACgCAIAAACqgVlPAAAABmJLR0QA/wD/AP+gvaeTAAAgAElEQVR4nO3deUAT17oA8DMkZIWwGTZZZFMUcaVeRLRYtdZra1VAcLk+3Aq44lYseH1aBaWoWBGsVOt91VYBtbi1LugVtYLVihWhgqCAGJF9jyTAvD/m3txcCBCyzSR8v79IJpzzzTmTky+TM2cwHMcRAAAAAAAAQCF6ZAcAAAAAAACAFoN8GgAAAAAAAMVBPg0AAAAAAIDiIJ8GAAAAAABAcXTpB5mZmfv37ycrFN0wfvz4DRs2kB3Fv+zfvz8zM5PsKPoFSvU7AECH+fv7kx1Cf7Fhw4bx48eTHcW/QL9TTafP/f86P/3q1aszZ85oPCTdkZWVRan8NTMzMysri+wodB/V+h0AoMPOnDlTVlZGdhS678yZM69evSI7iv+AfqeUrp/79K4vSk1N1VQ8uoaCXx89PT2hQ9WNgv0OANBh69evnzdvHtlR6DgMw8gOoTPod+ro+rkP86cBAAAAAABQHOTTAAAAAAAAKA7yaQAAAAAAABQH+TQAAAAAAACKg3waAAAAAAAAxakrn/7555+NjIwuXryopvKV0dHRERcX5+XlRXYg/cLy5csNDQ0xDHv8+DHZsQAAAJALBYfumJgYV1dXNpvN5XJdXV3//ve/NzQ0kB2U7qPgkbBr1y7svw0fPpzsoNSWT+M4rqaSlfT8+fNJkyZt2LChpaWF7Fj6haNHj3777bdkRwEAAKAPKDh037lzZ8WKFaWlpW/fvt25c2dMTIyfnx/ZQek+Ch4J1KSufHrmzJn19fWffPKJmsqXEAqF8p9p/uOPP7Zs2RIaGjpq1Ci1RgUAAAAAFWIwGKtWreLz+QYGBv7+/rNnz75+/fqbN2/IjguQ4MSJE7iUp0+fkh2R9s+fPnbsWEVFhZwvHjly5NmzZxcuXMhkMtUaFZBGwVXxAQAA9IxqQ/e5c+dYLJbk4cCBAxFCTU1N5EXUX1DtSKAmteTTd+/etbOzwzDs0KFDCKHExEQul8vhcM6fPz9jxgwej2djY3Pq1CnixQcPHmSxWObm5iEhIVZWViwWy8vL6/79+8TWtWvXMhgMS0tL4uGqVau4XC6GYVVVVQihsLCwjRs3FhUVYRjm7Oysjn0BCsBxPDY2dsiQIUwm08jIaPPmzdJb29vbt23bZmdnx2azR4wYkZycjHo7SBBCGRkZ48aN43A4PB7P3d2dmDYnsygAAAAK0K6h+/nz58bGxvb29srtNJBBu44EqpA+YU7sCa4KxF3v4+PjiYeRkZEIoRs3btTX11dUVEycOJHL5YpEImJrcHAwl8vNy8t79+5dbm7ue++9Z2hoWFpaSmxduHChhYWFpOTY2FiEUGVlJfHQ19fXycmpr+H95S9/GTlypFJ7KIufn5+fn5/Ki1UYWfFERkZiGLZv377a2tqWlpaEhASEUHZ2NrF106ZNTCbzzJkztbW1ERERenp6Dx48wHs8SJqamng8XkxMjFAoLC8vnzt3LnEAdFeUhlGt3wEAOgwhlJycrI6StWLoFolEZWVl8fHxTCaz04/+qqW+dlaMJuOh+JGwc+dOGxsbY2NjfX39QYMGffrpp7/99ps620OGrp/7Gs2nhUIh8ZDom8LCQuJhcHCwkZGR5H8fPHiAENqxYwfxEPJphZEST0tLC4fDmTZtmuQZ4hsq8VYUCoUcDicwMFDyYiaTuXLlSrzHg4SYGnXp0iXpinooSsOo1u8AAB2mprxKW4ZuCwsLhJCZmdnXX38tOSunDv02n6b+kVBaWvro0aPGxsbW1tbMzMzRo0ez2eynT5+qYOfl1vVzn5z50wwGAyEkFotlbvXw8OBwOM+ePdNsUEA1CgsLW1papkyZInNrfn5+S0uLZGkbNpttaWkps6+lDxJHR0dzc/NFixZt3769uLi4r0UBAADombYM3a9evaqoqPjxxx//7//+b/To0fJfQAXkRP0jwdbWdvTo0QYGBgwGw9PT8/jx40KhkEjfSUTR6xGZTGZlZSXZUQBFlJWVIYT4fL7Mrc3NzQihrVu3SpaNLCkp6XXtQjabffPmTW9v76ioKEdHx8DAQKFQqFhRAAAAutKWoVtfX5/P53/44YenT5/Ozc2Njo7uw04COWjLkSDh7u5Oo9EKCgr6+o+qRcV8WiwW19XV2djYkB0IUARx/XVra6vMrcRbNC4uTvpXkszMzF6LdXNzu3jxokAgCA8PT05O3rt3r8JFAQAA6ETrhm5nZ2cajZabm9vXfwQ907ojoaOjo6Ojg/R126iYT9+6dQvHcU9PT+IhnU7vbmYIoKDhw4fr6ellZGTI3Gpra8tisfp6myWBQJCXl4cQ4vP5u3fvHjNmTF5enmJFAQAA6IriQ3d1dfWCBQukn3n+/Hl7e7utrW2fygG9oviRgBCaPn269EPiEsbx48f3tRzVoko+3dHRUVtb29bW9uTJk7CwMDs7u6CgIGKTs7NzTU1NWlqaWCyurKwsKSmR/kdTU1OBQFBcXNzY2AhpNxXw+XxfX98zZ84cO3asoaHhyZMnSUlJkq0sFmvJkiWnTp1KTExsaGhob28vKyvrdUF+gUAQEhLy7NkzkUiUnZ1dUlLi6empWFEAAAC6ovjQzeVyr127dvPmzYaGBrFYnJ2d/T//8z9cLnfDhg0q2HkgheJHAkLo9evXp0+frqurE4vFmZmZy5cvt7OzCw0NVXbPlSR9ml1V63vEx8cTK0ZzOJxZs2YlJCRwOByEkIuLS1FRUVJSEo/HQwjZ29sXFBTgOB4cHKyvrz9w4EA6nc7j8WbPnl1UVCQprbq6evLkySwWy8HBYc2aNcQ6iM7OzsSCeo8ePbK3t2ez2d7e3uXl5T0HlpmZOWHCBCsrK2LfLS0tvby8MjIylN9lAtXWeSArnsbGxuXLl5uZmRkYGHh7e2/btg0hZGNj88cff+A43traGh4ebmdnR6fTifdtbm5uzwdJcXGxl5eXiYkJjUaztraOjIxsa2vrrijN7y/V+h0AoMOQ2tZ5oPjQPWvWLAcHBwMDAyaT6eTkFBgYmJOTo452IKivnRWjyXgofiRs3LjRycmJy+XS6XQbG5sVK1YIBAK1N8p/6/q5j+E4LsmtU1JSAgICpJ/RjJCQkNTU1Orqag3Xq3L+/v4IodTUVLID+ReqxaOroJ0BABqDYVhycvK8efPIDkTHUa2dqRZPP9f1c58q8z3a29vJDgEAAAAAAIA+o0o+rbxnz55h3QsMDCQ7QAAAAADIAJ/ggKC9RwKd7ABQRETE8ePHRSKRg4NDbGysn5+fYuW4urpqfqYKAAAAAJQEn+CAoL1HAvn5dHR0NKzHDgAAAAAAtJTuzPfoPwoKCj7++OMffvihqamJ7FgAAAAAoKAjR46EhIRkZGR0dHSQHQtQCuTT2qetre3y5cuLFi0aMGBAQEDAhQsXRCIR2UEBAAAAoG9qamqOHDni4+NjaWm5adOmR48ekR0RUBDk01qstbX1p59+mj17tqmp6d/+9reLFy+2tbWRHRQAAAAA5EXcKLuysvLgwYNjx461sbHZsmVLfn4+2XGBvoF8WruJxWIcx5ubm1NSUmbNmmVlZbVu3bq7d+9q6XR+AAAAoH8i7vH8+vXrffv2ubq6Dh48ePv27S9fviQ7LiAXyKd1BDHlo6qq6vDhwxMnTiS+4DY2NpIdFwAAAAD6gPipubCwMDo62snJ6S9/+cvXX39NdlCgFzLuj0hiNDrAwcEBvk32Q35+fnB/RACABmAYRnYIQJUYDEbPF0FhGAa/OVNQp899GevlJScnazAenRIXF8flcmNiYtRaS1lZ2YYNG3p4gb6+vlgsdnJyYrFY+vr6X3zxhVrj0ZjMzMwDBw5Q8PiMi4sjOwQAQD8SFhY2fvx4sqNQDWL8XL9+PdmBdBYQELB+/Xp1t/NPP/107ty57rZiGKanp4fj+KRJkzIyMkJDQ318fNQaj8ZQtt/l1PVzX0Y+DXeHVxjxTYW4q7v65OXlyXye+I7L5/Pnz5/v7+/v7e1NRKJLHXrgwAEK7g6cmQYAaNL48eMpOBIqhhg/Kbg7AQEBnp6e6v5ALywslJlP0+n0trY2FxeXpUuXLl682MrKCsMwHx8fCjaUYijb73Lq+rlP/v1cgJKIs9EGBgZz5sxZvHjxBx98oKcH0+IBAAAALUOcF3N2dl64cOHChQtdXFzIjgjIC/JpbUX8BsRisebMmbNw4cJp06bp6+uTHRQAAAAA+qCtrY04L2ZpaRkUFDR//vwRI0aQHRToM8intRKDwZg+ffqiRYs++eQTNptNdjgAAAAAUISxsXFgYOD8+fO9vLzgYlPtBfm09hk0aNDbt2+NjY3JDgQAAAAAilu6dOnmzZvpdEjGtB50ofbhcDgcDofsKAAAAACgFAsLC7JDAKrR5wvXsrKyhg4dqqenh2GYhYXFrl271BGWTGfPnnV0dMQwDMMwS0vLRYsWaaxqHSbdqgQGg2Fubu7j4xMbG1tbW0t2gOqyd+9ec3NzDMO++eYbsmMBAACV6bejOurfA7vu9XvX3vz555+NjIwuXrxIbmAy9Tmf9vT0/PPPPz/88EOEUH5+/tatW9UQlWy+vr4vXrxwcnIyMjIqLy8/efKkxqrWYdKtiuN4R0dHRUVFSkqKg4NDeHi4m5vbw4cPyY5RLTZt2nTv3j2yowAAABXrt6M66t8Du+71e9fepPJ9bai+sJpQKPTy8iI7in4EwzBjY2MfH5/jx4+npKS8fft25syZ9fX1ZMcFAABAETCq90862e/ELnzyySdkByID1fPpY8eOVVRUkB1FP+Xn5xcUFFRRUdEPfzgDAADdA6N6/wT9rgEqyKcTExO5XC6Hwzl//vyMGTN4PJ6Njc2pU6eIrQcPHmSxWObm5iEhIVZWViwWy8vL6/79+8TWtWvXMhgMS0tL4uGqVau4XC6GYVVVVQihsLCwjRs3FhUVYRjm7OwsZzx37twZNmyYkZERi8Vyd3e/evUqQmj58uXEdCInJ6fs7GyE0JIlSzgcjpGR0YULFxBC7e3t27Zts7OzY7PZI0aMIG5q/dVXX3E4HENDw4qKio0bNw4cODA/P1/5FtMiQUFBCKFffvmFeCizlXo+ABBCGRkZ48aN43A4PB7P3d29oaGhu6KUJ7PL5Kmr50MRAAB0g9aN6ggGdlXQxn7v5O7du3Z2dhiGHTp0SJ5ouwtMZpaofL6ngvU9Vq5cKRAIoqKiDA0Nk5OTW1tbfX19V6xY4efnp6+vv3bt2ry8vJMnT65bt+7rr78uKioKCgqaNm1abm6ura3twYMHa2pq0tPTiaISEhIcHBw2b95MPDxw4EBZWdnjx48LCwvlj+ft27cBAQFr167FcXzmzJkLFy6sqqo6evRoXV1dWlranTt3rK2tEULHjx8XiUSBgYHEDwdbtmyJj4//4YcfpkyZEhsbu2DBAicnp88//7yhoSEqKio6OtrZ2dnT05PKc3fUYdSoUQihFy9eEA9ltlLPB0Bzc/OsWbMiIyNv375dX1+/cuVKkUjUXVEeHh5KBiyzy+Spq+dDUbvs378/MzOT7Ch004YNG8aPH092FP+i7jshAwlK9buStG5URzCwq4I29nsn3t7e9+7ds7W1JR72HG0PgcnMEpXP91Q538PLy4vH4/H5/MDAwObm5tLSUskmOp0+dOhQJpM5bNiwxMTExsbG48ePq7BqaX5+fv/7v/9rYmJiamo6a9as6urqyspKhFBoaGh7e7uk3oaGhgcPHvz1r39FCL179y4xMXHOnDm+vr7GxsZbt27V19eXjnDPnj2rV68+e/asq6urmsKmJkNDQwzDGhsbkRytJPMAKC4ubmhocHNzY7FYFhYWZ8+eHTBgQK9FKU/SZYMGDVJ3XVSTmZmZlZVFdhQ66MyZM69evSI7iv84c+ZMWVkZ2VHoPg30e1ZW1k8//XTnzp0///yzsrJSrSdutHdUR/17YFeSVvd7z2RG20Ng3WWJBIXzPbWsP81gMBBCYrFY5lYPDw8Oh/Ps2TN1VN0J8R2lvb0dIfTBBx8MHjz4u+++i4iIwDDs9OnTgYGBNBoNIZSfn9/S0jJ8+HDiv9hstqWlpWYipLjm5mYcx3k8HupLK0kfAI6Ojubm5osWLVq3bl1QUNCgQYP6VJTy+mfnenp6pqamkh2FrqHgrcvWr18/b948sqPQcRro9z///HPp0qXSNRobG5uamvL5fCsrKwsLCz6fb2ZmNmDAAD6fjxCqrq4Wi8XEB1xf6cCorvnqdIBu9HvPpKOVMzDpLFFJ5FyPyGQypb8NqNbly5d9fHz4fD6Tyfz8888lz2MYFhIS8uLFixs3biCEvv/++2XLlhGbmpubEUJbt26VrNpYUlLS0tKipgi1SEFBAUKI+JamWCux2eybN296e3tHRUU5OjoGBgYKhUJNNrhm6rp79+68efOSkpJevnyp2pIBADpvypQp0g9xHK+trS0qKiLOWx87duyrr776/PPPFy9ePH36dITQrVu3FM7ydWBUVzjy/kw3+l1+PQTWXZaoJBLyabFYXFdXZ2Njo8Iyb9++HRcXhxAqLS2dM2eOpaXl/fv36+vrY2JipF8WFBTEYrGOHj2an5/P4/Hs7e2J54lv/HFxcbgUmIGKELpy5QpCaMaMGUiJVnJzc7t48aJAIAgPD09OTt67d68mG1wzdZmbm9fX169fv97R0dHFxSU0NPTs2bM1NTWqrQUAoJPs7Owkn0ddicXi1tZWkUiEYdiwYcMQQr6+vgrfoVoHRnVlIu+3dKPf5dddYD1nicogIZ++desWjuOenp7EQzqd3t3MEPn9/vvvXC4XIZSTkyMWi1euXOno6MhisTp9gzcxMQkICEhLS9u7d++KFSskz9va2rJYrMePHysZho4pLy+Pi4uzsbEhfohUrJUEAkFeXh5CiM/n7969e8yYMXl5eZpscPnrUuZQHDx48NWrV+vr6x8+fLh8+fLCwsL58+fz+XwPD48tW7akp6e/e/dOsZIBAP3BRx991MP8DTqdrqent2nTJmJ9KoXpxqiONDWw6wyd6Xf5dRdYz1miMjSUT3d0dNTW1ra1tT158iQsLMzOzo5YugUh5OzsXFNTk5aWJhaLKysrS0pKpP/R1NRUIBAUFxc3NjbKfEuIxeK3b9/eunWLyKft7OwQQkT68vz5c8nCfBKhoaGtra2XLl2SXg+cxWItWbLk1KlTiYmJDQ0N7e3tZWVlb968UWkbUB2O401NTR0dHTiOV1ZWJicnT5gwgUajpaWlETOuFGslgUAQEhLy7NkzkUiUnZ1dUlLi6empyQaXv66eD0V50On0sWPHhoeHX79+vaam5urVq1OnTk1PT582bZqpqem0adNiYmJ+//33jo4OVewZAEAXVFVVpaSkFBcXt7W1yXwBnU53cHDIysras2cPMUNUTro6qvcpcuUHdq2jw/0uv+4C6zVLVJz0mXBicT68R1lZWW5ubnp6egghS0vLqKiohIQEDoeDEHJxcSkqKkpKSiI6zN7evqCgAMfx4OBgfX39gQMH0ul0Ho83e/bsoqIiSYHV1dWTJ09msVgODg5r1qwhFrJxdnYuLS3FcfzRo0f29vZsNtvb2/vw4cNOTk7d7ci5c+eIAsPDw01NTY2Njf39/YlFCp2cnIjSCKNHj/7iiy867Vdra2t4eLidnR2dTufz+b6+vrm5uTExMWw2GyFka2t74sSJnlsGx3E/Pz8/P79eX6Yx8sRz4cKFESNGcDgcBoNBdCtxKcy4ceO+/PLL6upq6RfLbKWeD4Di4mIvLy8TExMajWZtbR0ZGdnW1tZdUT2HKs/xKbPLZNa1b98+CwsLhBCXy507dy7e26GoTDu/efMmJSXls88+GzhwIELIzMzM39//yJEjT58+7bnkrq5cuSL99lEsHqAYhFBycjLZUfwH1eLRVepo58bGxsuXL2/cuHHUqFF6enp0Ot3Dw6PrqTIajYZh2Nq1a9+9eyd/PFo0quPyjVekDOxUe3/1w37v1Jvx8fHEUuIcDmfWrFm9Jp/dBSYzS1y9erWS+V6f82kFBAcHm5qaqrxYhf31r3998eKFOkqmWh5DtXiUpKbjU3l9aueioqIjR474+/sT73wrKysit379+rU8//7Xv/6VzWYfPnyYOPegfDxAflr3+aoSy5YtMzAwQAhlZ2eruy457dixY+jQoYaGhgwGw8nJafPmzY2NjeqrTlXtLBaLHz58uGfPnqlTpzKZTISQo6PjZ599lpKSUlNTg+M4MTdagk6n29nZZWRkqCkeiqDseEW1dqZaPEqibL/LqWv8GprvoZK1SJQhmSvy5MkT4nsqufGAfkvyCVpdXf3w4cN169bV1tauWbNm4MCBTk5OwcHBqampxBKhXYnF4n/+859CoXDlypVTp06FtYeBBhw9evTbb78lO4r/cvPmzdWrVxcXF1dVVUVHRx84cIDKt7Z58eJFUlLSvHnzBgwY4OHh8fXXX5uYmBw8ePDVq1eSb9cmJiYIoRkzZhDTOYjT0kuWLMnLy5s0aRLZewAA6B056+VpXnh4+PPnzwsKCpYsWbJz506ywwGg82Tr69ev+/v7//777wEBAaamppILGaUvG7h//75QKEQI4Th+586dIUOGJCUlkbcHKiMUCr28vLSxcEAKAwMD4mdPQ0PDefPmzZkz58qVK5S61Y50Du3k5BQZGYkQ2rFjx8OHDwUCATH7q+siV1OmTBGJRHQ6feDAgbdv305KSiKuCwIAUJ9a7uciLSIigrizt4ODQ2xsrJ+fn7prlInD4bi6ug4cODAhIaHTb2oAkI7L5U6dOnXq1KkIobdv396+fTs9Pf3HH3+MiYkxMDDw9PQktqanpzMYDOIWr2KxWCwWh4SEnD179vjx49bW1mTvhOKOHTtWUVGhjYX3E1S7kc2lS5ekHw4YMAAhRPqStxUVFRkZGenp6deuXSsuLuZwOF5eXps3b546dero0aOJ+aw9mzRpEoPBWLFiRUxMDGTSAGgXtZ+fjo6Obm1txXH85cuXZCXTCKFdu3a1t7eXlpZKL+sBAAVZWFgQM6pLSkpycnJ27tzJZDJ37drl4eFx9OjRTqvc4Dj+z3/+c8iQISdPnlS4xhMnTnh4eLBYLC6XO2jQIOIHHBzH9+/fP3ToUCaTaWJiMnv2bMmdpRITE7lcLofDOX/+/IwZM3g8no2NzalTp3ot886dO8OGDTMyMmKxWO7u7levXkUIhYWFbdy4saioCMMwZ2dnhFB7e/u2bdvs7OzYbPaIESOIefO9VqpM4aATHMdjY2OHDBnCZDKNjIyIS7gkFOugjIyMcePGcTgcHo/n7u7e0NDQXVF99fr1azabTcosvqampvT09C1btnh4eFhaWi5YsID4iUnyo1N4ePjYsWPlSaYRQlwu99GjR4cOHYJkGgDtIz2ZmrLXe2kLqs2vp1o8SqLs8amBdhaJRFeuXKHRaDLfxcTpQ19f38rKyr7GQ9wIaffu3dXV1TU1NUeOHFm4cCGO49u2bWMwGCdOnKirq3vy5MmYMWMGDBhQXl5O/Bfx+/WNGzfq6+srKiomTpzI5XJFIlHPZaampm7fvr2mpqa6utrT09PMzIx4va+vr5OTkySkTZs2MZnMM2fO1NbWRkRE6OnpPXjwoNdKlSxcHohi1wOpL57IyEgMw/bt21dbW9vS0pKQkICkrkdUoIOampp4PF5MTIxQKCwvL587dy5xrCrTHYTm5mZDQ8O1a9equg3+o1M7S19WSKwYLbkoor6+Xn1hdBePtqPs5xTV2plq8SiJsv0uJ3LW9+g/qHZ8UC0eJVH2+NRMO1+4cKHn78b6+vqmpqZpaWnyxyMSiYyNjSdPnix5pq2t7cCBAy0tLQYGBoGBgZLnf/vtN4TQl19+STwkMiehUEg8JPKtwsLCHsrsVHV0dDRCqKKiAv/vlFcoFHI4HEnVLS0tTCZz5cqVPVeqfOHyoNrnmZriaWlp4XA406ZNkzxDnGYm8mnFOujp06cIoUuXLklXpGR3ECIjIwcPHtzQ0KDg3soBIXTq1ClJDs1isaRz6KqqKvVV3V08lDoOlUTZzymqtTPV4lESZftdTl3jV/v8aQCASty4cUMyeVomsVhcW1s7e/bsQYMGjRw5Up4ynzx5UldXN336dMkzNBpt3bp1Dx8+bGpq8vDwkDz/3nvvMRiM7pa+JxYlIOaidFdmp38hTux1XfknPz+/paVl+PDhxEM2m21paSmZatJdpSovvD8rLCxsaWmZMmWKzK2KdZCjo6O5ufmiRYvWrVsXFBQ0aNCgPhXVnXPnzqWkpFy7ds3Q0LAPe9h3y5Yta2lpsba2njJlyuHDh6dMmWJra6vWGgEA2qW/rO8BgLb7+eefOyXTNBqNwWAwmUw6/V9fjHEcRwgVFxffunVLnryEmMNqbGzc6fm6ujqEELHqsISxsXF3C/nJUyZC6PLlyz4+Pnw+n8lkfv755zL/vbm5GSG0detW7N9KSkrkudRMrYX3K8Q6jHw+X+ZWxdqQzWbfvHnT29s7KirK0dExMDBQKBQq2R2nT5/es2fPrVu3iOxcrQICAvLy8l6/fv39998HBQVBMg0A6ETG+emUlBTNx6EbysrKui6BRK6ysjKd6dDMzExEyeNTA/0uEAgKCwsRQoaGhqampgMGDDA3Nzc3NzczMxswYACfzzczMyP+NjMzW7VqFYZhrq6uvRZLrApSVVXV6XkiG+6UPdfV1cmzm92VWVpaOmfOnLlz53733XfW1tbx8fEys14ijYuLiwsLC+u1Ls0U3t8Q8xlaW1tlblW4Dd3c3C5evFhZWbl///49e/a4ubkFBgYqVhRCKD4+/urVqzdv3uz0rU9NPvroo6FDh2qgIjkRg6FuIL6/UXBgpyDod+ro+rkvI58OCAjQVDw6iMQ1TGTKysrSsQ6l5u6ou99NTU3Ly8vNzMy6uyRRmvyrmw0aNMjU1PTatSEt4vIAACAASURBVGvEzFeJ4cOHGxgYPHz4UPLM/fv3RSLR2LFjFS4zJydHLBavXLnS0dGxhyBtbW1ZLNbjx4/l3AUNFN7fDB8+XE9PLyMjIzQ0tOtWxdpQIBDU1dUNGzaMz+fv3r372rVreXl5ihWF4/iWLVtqa2vT0tIkv8z0NwcOHDhw4ADZUagSNQd2qoF+p5ROn/v/Nd9j3rx55Mzr1iGpqama7dCepKamkt0e/YW6+53FYpmbm8uTTPcJk8mMiIi4ffv22rVrX79+3dHR0djYmJeXx2KxNm7ceO7cuZMnTzY0NOTk5ISGhlpZWQUHBytcpp2dHUIoPT393bt3z58/l56KbWpqKhAIiouLGxsbaTTakiVLTp06lZiY2NDQ0N7eXlZW9ubNm54rVWvh/Q2fz/f19T1z5syxY8caGhqePHkifdsgFoulQBsKBIKQkJBnz56JRKLs7OySkhJPT0/FisrLy/vqq6++/fZbfX19TMrevXtVsPPagOzRrh+ZN28e2b39H2Q3Buis8+c+2fEAAFSsr9dNHzp0yN3dncVisVis0aNHJyQk4Dje0dERGxvr4uKir69vYmIyZ86c/Px84vUJCQkcDgch5OLiUlRUlJSUxOPxEEL29vYFBQU9lBkeHm5qampsbOzv73/o0CGEkJOTU2lp6aNHj+zt7dlstre3d3l5eWtra3h4uJ2dHZ1OJ3K73NzcXitVpnA5GwpR7Pp69cXT2Ni4fPlyMzMzAwMDb2/vbdu2IYRsbGz++OMPHMcV6KDi4mIvLy8TExMajWZtbR0ZGdnW1tZdUT3HlpOTIzPbiI2NVUdT4NTrdwAABWE4jqvryxQAgAz+/v4IIUr9VKIbMAxLTk6mzikrqsWjq6CdAQC9gvU9AAAAAAAAUBzk0wAAAKji2bNnWPeIJUEAAIBq+unF0QAAACjI1dUVZiECALQOnJ8GAAAAAABAcZBPAwAAhfz4449Lly69fv161/ulAwAAoCbIpwEAgEIaGhqOHz/+4Ycfmpubr1u3LisrC+Y/AAAAxUE+DQAA1KKvr48Qqqmp+eabb8aPH29tbb1u3bpHjx6RHRcAAADZIJ8GAACKEolECKHy8vJvvvlm7NixLi4u27dvLywsJDsuAAAA/wXyaQAAoDoisS4sLIyOjnZxcRk5cuTXX39NdlAAAAD+Be6PCICu8ff3P3PmDNlRAMXR6fS2tjayowD/AfdHBAD0DNafBkAHeXp6rl+/nuwodE1AQMD69evHjx+v1lquX79+/Pjx7rZiGEaj0drb2z09PTMzM0NCQiZPnqzWeDQmLi4OIUTB4zYgIIDsEAAAVAf5NAA6yMbGBk6nqVxAQICnp6e/v79aa6murv7HP/7R9Xl9fX2xWOzs7LxgwYLFixc7OjpiGDZ58mSd6ejU1FSEEAV3B/JpAECvIJ8GAADqItJoa2vrv/3tb0FBQa6urmRHBAAAoDPIpwEAgFra29uJNJrP5//tb3+bP3++h4cH2UEBAADoFuTTAABALYaGhv7+/gsXLpw0aZKeHqzCBAAAVAf5NAAAUIivr+/SpUsZDAbZgQAAAJAX5NMAAEAhfD6f7BAAAAD0DfySCEC/lp+fv2bNGjc3N0NDQzqdbmRkNHjw4JkzZ2ZmZpIdGlDW2bNniWVAJBgMhrm5uY+PT2xsbG1tLdkBqtHevXvNzc0xDPvmm2/IjgUAoPsgnwag/zp27Ji7u/uTJ0/279//6tWr5ubm7OzsnTt31tXV5eTkkB0dUJavr++LFy+cnJyMjIxwHO/o6KioqEhJSXFwcAgPD3dzc3v48CHZMarLpk2b7t27R3YUAID+AuZ7ANBPZWVlBQcHv//++1evXqXT/zUUODo6Ojo6GhsbP3/+XPMhCYXCKVOmqCkNUmvhWgHDMGNjYx8fHx8fn5kzZwYEBMycObOgoMDIyIjs0AAAQLvB+WkA+qldu3a1t7fv3r1bkkxLTJ8+ffXq1ZoP6dixYxUVFdpYuNbx8/MLCgqqqKiA6RAAAKC8/8qnU1JSMKAcdd87rU/8/f3Jbo/+glL9Lg+RSHTjxg0zM7Nx48b1/Eocx/fv3z906FAmk2liYjJ79uxnz54RmxITE7lcLofDOX/+/IwZM3g8no2NzalTp6T//cSJEx4eHiwWi8vlDho0aOfOnQihO3fuDBs2zMjIiMViubu7X716FSEUFha2cePGoqIiDMOcnZ0RQu3t7du2bbOzs2Oz2SNGjEhOTpanUmUK71eCgoIQQr/88gvxULHWzsjIGDduHIfD4fF47u7uDQ0N3RWlEl999RWHwzE0NKyoqNi4cePAgQPz8/PlqW7t2rUMBsPS0pJ4uGrVKi6Xi2FYVVWVqmLTGJIHu/4kJSWF7N7+D7IbA3TW6XNfxnyPfvi5oipxcXFkh9CZp6fn+vXryY5Cx2mg36uqqjIyMszNzQcMGMDn8wcMGKBkgSUlJe/evRs1alSvr9y+ffuePXuOHTv2ySeflJaWBgUFTZw48enTpxYWFitXrhQIBFFRUYaGhsnJya2trb6+vitWrPDz89PX10cIHThwYP369bt377527RqGYampqbdv30YIvX37NiAgYO3atTiOz5w5c+HChVVVVQcOHCgrK3v8+HFhYSFR9ZYtW+Lj43/44YcpU6bExsYuWLDAycmp10qVKbxf3TaF6P0XL14QDxVo7ebm5lmzZkVGRt6+fbu+vn7lypUikai7olTStp9//nlDQ0NUVFR0dLSzs7OnpyeO4/JUd/DgwZqamvT0dOJhQkKCg4PD5s2blQ+JFGFhYePHjyc7Ch1HwfvMQ79Th4zPfVwKkUnjQFF+fn5+fn5kR/EfVItHV2mgnZuamohkkUCj0UxNTQcPHjxp0qQFCxasXbt2586dR44c+emnn+7evTt9+vRPP/205wKJC9GmTp3a88taWloMDAwCAwMlz/z2228IoS+//JJ4GBkZiRASCoXEw4SEBIRQYWEhjuMikcjY2Hjy5MmS/21raztw4ECnKqKjoxFCFRUVOI77+vo6OTkRzwuFQg6HI6m6paWFyWSuXLmy50qVL7wHCKHk5OSeX6NJcsYjuR6xKwzDjI2NcUVb++nTpwihS5cuSZepWNvicr+POsXTQ3XENQCHDx8mNi1cuNDCwkJSTmxsLEKosrKy1xq1tN+BkqjWzlSLp5/rOl7B9YgAaAEulzt27NisrCziYXt7e01NTU1NTUFBgZ6eHp1OxzCsvb29ra2NeIGJiUleXt6wYcO6K9DAwAAh1NLS0nO9ubm5TU1N0qf63nvvPQaDcf/+fZmvJ+5CIhaLEUJPnjypq6ubPn26ZCuNRlu3bl2nfyG+J7S3t3d6Pj8/v6WlZfjw4cRDNpttaWkpmWrSXaUqL1yHNTc34zjO4/GQoq3t6Ohobm6+aNGidevWBQUFDRo0qE9FqYRmqvvHP/7BYDAmTZpkamqq2pIBALoBrkcEQDt8+OGHMu+Z19HRIRKJWltb29raaDQanU4fPnz4Bx980EMyjRAaNGgQi8UqKCjoudK6ujr07+RbwtjYuLGxsdeAiam0xsbGXTddvnzZx8eHz+czmczPP/9c5r83NzcjhLZu3SqZrFZSUtLrFwB1F65LiN53dXVFijYIm82+efOmt7d3VFSUo6NjYGCgUCjUcNtqprpnz575+fnx+fwxY8Zs2LDh4sWL9fX1qq0CAKDVIJ8GQDtMnjyZmJzaHRqNNnjw4N9++83V1RXDsJ5LYzKZ06dPr6qq+vXXX7turampWb58Ofp3Ntwpe66rq7Oxsek1YGtra4RQ1+u9SktL58yZY2lpef/+/fr6+piYGJn/TtwmMC4uTvoHtV7vMqPWwnXMlStXEEIzZsxASjSIm5vbxYsXBQJBeHh4cnLy3r17Ndy2mqluz549dXV1V69e/fDDD2/fvj179mwzMzMPD49169alpqYSXzsBAP0Z5NMAUF1bW9u9e/du374tPYVaGp1Op9FomzZtevz48ejRo+Usdvv27Uwmc8OGDUKhsNOmp0+fEovoDR8+3MDAQPquH/fv3xeJRGPHju21/EGDBpmaml67dq3T8zk5OWKxeOXKlY6OjiwWq7vU39bWlsViPX78WM7d0UDhuqS8vDwuLs7Gxmbp0qVI0QYRCAR5eXkIIT6fv3v37jFjxuTl5Wm4beWvjk6ny5wUJCcDA4OpU6fu2bPn4cOHdXV1V65cmTp16q+//hoQEDBgwAAPD48tW7ZcvHiR+FkGANDfQD4NABV1dHRkZ2fv27fv448/NjU1nTBhQlJSEnHv6E6vpNFoLi4uDx482LNnj8wJId0ZNWrUDz/88PTp04kTJ/7888/19fVisfjly5fffvvtsmXLiNydxWJt3Ljx3LlzJ0+ebGhoyMnJCQ0NtbKyCg4O7rV8JpMZERFx+/bttWvXvn79uqOjo7GxMS8vz87ODiGUnp7+7t2758+fS0/FNjU1FQgExcXFjY2NNBptyZIlp06dSkxMbGhoaG9vLysre/PmTc+VqrVw7YXjeFNTU0dHB47jlZWVycnJEyZMoNFoaWlpxPxpFoulQIMIBIKQkJBnz56JRKLs7OySkhJPT0/FilKY/NU5OzvX1NSkpaWJxeLKysqSkhKFKzU0NJTk1uXl5adOnZowYUJ6evqnn35KnLfesmULcRD2qdiOjo5Vq1bV1NQoHBgAgDTSv5GpcH2Py5cv83i8CxcuqKQ0VdmxY8fQoUMNDQ0ZDIaTk9PmzZsbGxtVWD7V1tPQTDzLli0j5tdmZ2eru64+aW9v379///jx49VdkQrbuaio6MiRI/7+/mZmZgihAQMGfPzxx8THdkdHR1RUlPQpauK0dHh4eGtrq8LxlJaWbtq0yd3d3cDAgEajGRsbjx49etmyZb/++ivxgo6OjtjYWBcXF319fRMTkzlz5uTn5xObEhISOBwOQsjFxaWoqCgpKYlIzuzt7QsKCojXHDp0yN3dncVisVis0aNHJyQk4DgeHh5uampqbGzs7+9/6NAhhJCTk1NpaemjR4/s7e3ZbLa3t3d5eXlra2t4eLidnR2dTufz+b6+vrm5ub1WqkzhPbcVotj19b3Gc+HChREjRnA4HAaDoaenh/59i8Rx48Z9+eWX1dXV0i9WoLWLi4u9vLxMTExoNJq1tXVkZGRbW1t3RfW6O/IctzExMWw2GyFka2t74sSJHiLft2+fhYUFQojL5c6dOxfH8erq6smTJ7NYLAcHhzVr1hCL5Tk7O5eWlirZzhLl5eUpKSmfffYZcfUCnU4fO3ZseHj49evX37171+u/P3r0CCFkZmb2008/qSQeZVB2YCcIhcIhQ4ZERkaqrwqte7+rCTWPBJFIFBUV5eTkpK+vb2Rk5Obm9vLlS00G0HW8Ulc+fenSJQrm0++//35CQkJ1dXVDQ0NycrK+vv5HH32kwvL7Zz6N4zhxfwdKvdkKCgomTJiAEBo5cqS661KynV+/fk18BhPnVrlcruTUV3t7u/QrpWeF0mg0V1fX33//XeXxgO7A56taUfa4VaydBQIB8b52cHBACHE4nAkTJhC5dacvwBL79+/X19cnvvkEBAR0t5afxvqdggO7xIYNGxBCkE9rBgWPhDlz5gwZMiQrK0ssFgsEglmzZuXk5GgyAM2tlzdz5kzNXP4sFAqnTJly7949eV5sYGAQHBxMo9EQQvPmzTt79mxKSsqrV69sbW3VHCbQqD/++OPLL78MDQ0lVgQjOxwZKioqMjIy0tPT7969m5eXx2azx4wZM3/+/KlTp06aNKm7aRseHh5cLrelpUVPT+/vf/97REREdzOqAQDksrKy8vf3J+6gJhAIfv311/T09NOnT8fExHC53PHjx0+YMMHb2/v999+XvIuvX7/e3t7e0dGBEDp37ty1a9eSkpL8/PzI3A1KunfvHrH2OeifTp8+nZaW9scff7i7uyOErKyszp8/T3ZQsu6PqF2OHTtWUVEh54svXbok/ZC4yVx/WyRLHXpdTULDRo4cefbsWYRQfHx8X6cwqk9jY+P9+/fT09PT09MfPXpEo9FGjhz5ySeffP31197e3iwWq9cS6HT6+++/X1JS8sMPP4wcOVIDMQMAlGdtbS3JrV+8eHH37t1ff/31u+++27Fjh4GBgaen59SpUz/44IM7d+4QyTRCSCwW19fX+/v7+/r6Hj58mFjGRMOoNrAThELh5s2bjx492vOSoECFqHYkHD58eMyYMUQyTR1quR7x7t27dnZ2GIYRkxcTExO5XC6Hwzl//vyMGTN4PJ6NjQ3x8wFC6ODBgywWy9zcPCQkxMrKisVieXl5Sa4iWrt2LYPBsLS0JB6uWrWKy+ViGEYswhUWFrZx48aioiIMw5ydnfsa5+vXr9lsNvFjHOgTHMdjY2OHDBnCZDKNjIw63ba3vb1927ZtdnZ2bDZ7xIgRxDying8DhFBGRsa4ceM4HA6Px3N3dycuk5dZlBZpbm5OT0/fsmWLh4eHsbHx9OnT09PTJ0yYkJycXFVV9fDhwz179kydOlWeZJoQExOTnZ0NyTQAWsrR0XHx4sVHjhwpLS0tKirat2+fiYnJ3r17x40b19TUJP1KIre+cOGCk5NTUlKSBmLTioE9MjJy1apVpHzB6D+ofCSIRKKsrKxRo0apeqeVJj35Q4Xzp1+9eoUQio+PJx4Sd4i9ceNGfX19RUXFxIkTuVyuSCQitgYHB3O53Ly8vHfv3uXm5r733nuGhoaSa0R6vkms9D2E+6S5udnQ0HDt2rWK72QXVJv/p754IiMjMQzbt29fbW1tS0sLcQtiyeSqTZs2MZnMM2fO1NbWRkRE6OnpPXjwAO/xMGhqauLxeDExMUKhsLy8fO7cuUQXd1eUnP7yl79ofv60WCyWJMrEzA1HR8fPPvssJSWl0xVgmokHqAqC+ZTqRNnjVgPt3NHRsWHDhu6mbxH3qZkxY8br16/VGg/1B/a7d+/OmjULx/HKykoE86fVhspHwsuXLxFCo0aN8vHxsbS0ZDKZrq6uhw4dItYv0piu45VG18vz8vLi8Xh8Pj8wMLC5ubm0tFSyiU6nDx06lMlkDhs2LDExsbGx8fjx42oNJjo62srKateuXWqtRScJhcK4uLipU6du2LDB2NiYzWZL34P33bt3iYmJc+bM8fX1NTY23rp1q76+vnRvyjwMiouLGxoa3NzcWCyWhYXF2bNnBwwY0GtR1IHj+O+//x4TEzNt2jRDQ0MPD4+kpCQrK6v4+PhXr15JVu2AmxUDALrCMCwnJ6e9vV3mVuLTOj09fciQIeo7UU39gV0oFIaFhSUmJqpj94EExY8E4mccPp8fFRWVm5v79u3b2bNnr169+scff1RPe8iLnPWniZN23S2t7+HhweFwnj17pr4Azp07l5KScvXqVUNDQ/XVoqsKCwtbWlqmTJkic2t+fn5LS8vw4cOJh2w229LSUmZvSh8Gjo6O5ubmixYt2r59e3FxcV+LIt2VK1c8PDzi4+OtrKwOHz5cUlJSVFT0/ffff/bZZ/LcShAA0J+1tbXdvXtXMnlaJrFY3NTURCz9ro47MlJ/YI+IiPjss88GDhzY530DfUHxI4HJZCKE3NzcvLy8TE1NjYyMduzYYWRkpJk5UT2g6P1cmEwm8WuOOpw+fXrPnj23bt0aNGiQmqrQbWVlZejft/ntqrm5GSG0detW7N9KSkp6veiTzWbfvHnT29s7KirK0dExMDBQKBQqVhQpxowZk5+fX1ZW9v333wcFBREr3wEAgDwePnwouU2pnp6evr6+ZOE8CUNDQwcHB09PT4TQ9evXu97WVEkUH9jv3r2bk5OzfPlyRfYN9AXFjwQrKyuEEHERHYHBYNjb2xcVFfVlL1WPiut7iMXiuro6NZ3Vi4+Pv3r16s2bN4n1yYECiIvnWltbZW4l3oRxcXFhYWF9KtbNze3ixYuVlZX79+/fs2ePm5tbYGCgYkVpnoWFxeDBg8mOAgCgle7cucPn801NTW1sbKytrfl8vqWlpbm5OfGHhYUFn8+XLKOJYZi/vz9xXxsVovjAfuzYsRs3bnT6jhEVFRUVFfXgwQMPD48+RQV6QPEjwcDAwMXFJS8vT/rJtrY2IyOjPsWjclTMp2/duoXjOPEtHCFEp9O7mxnSJziOb9mypba2Ni0tjU6n4o5ri+HDh+vp6WVkZISGhnbdamtry2KxHj9+3KcyBQJBXV3dsGHD+Hz+7t27r127lpeXp1hRACFUVlaWkpJCdhRA7aRv8aPtiLNi/fO43bx5c6clFDSP4gP78ePHpWfWVlVV8fn8yMhIuAhK5Sh+JCCEAgICoqKiXrx44ejoiBBqaWkpKSn5+OOP+1qOalElrezo6KitrTU0NMzLywsLC7OzswsKCiI2OTs719TUpKWlzZw5s66urqSkRPofTU1NBQJBcXGxmZkZi8Xq4fYWeXl5X331FULo22+/lX4+NjZ206ZNqt8l3UXc0ffMmTPHjh3z9/cvLi6WnrfEYrGWLFly7NixcePGLVq0iMvlvnnzhkajEb/RdEcgEGzYsCEpKcnR0TE3N7ekpGTx4sWKFQUQQllZWQEBAWRHAdTuwIEDBw4cIDsKVYLjliwwsAMC9Y+EDRs2nDx5Migo6OTJk1wud/v27UKhcMuWLarZf4VJL/ahqvXy4uPjiRWjORzOrFmzEhISOBwOQsjFxaWoqCgpKYnH4yGE7O3tCwoKcBwPDg7W19cfOHAgnU7n8XizZ88uKiqSlFZdXT158mQWi+Xg4LBmzRriS7yzszOxoN6jR4/s7e3ZbLa3t3d5eXkPUeXk5MhsgdjYWOV3mUC19Z7UF09jY+Py5cvNzMwMDAy8vb23bduGELKxsfnjjz9wHG9tbQ0PD7ezs6PT6cQ7Mzc3t+fDoLi42MvLy8TEhEajWVtbR0ZGtrW1dVdUr+FlZmZOmDBB8p60tLT08vLKyMhQR1Pg1Ot3AIAOQ2pbN43iA7s0WC9Prah/JLx69Wr+/PkmJiZMJnPcuHG//PKLeluki66f+xgudTfmlJSUgIAAXOP3Zw4JCUlNTa2urtZwvSpH3P4qNTWV7ED+hWrx6CpoZwCAxmAYlpycPG/ePLID0XFUa2eqxdPPdf3cp8r6Ht2tuwkAAAAAAACVUSWfVt6zZ8+w7hGXkQIdAB0NAAA6BgZ2QNDeI4H86xEjIiKOHz8uEokcHBxiY2P9/PwUK8fV1VXzM1WA5kFHAwCAjoGBHRC090gg//x0dHR0a2srjuMvX75UOJnuV1paWtRxcywAAAAAaNLbt2/b2trIjgKoAPn5NOir4uJiCwuLWbNmpaSkqPwWWQAAAADQjO+++87S0nL16tW//vqrlp6XBQTIp7WSSCS6fPlyYGCgmZnZwoULf/75Z5Xc8gYAAAAAmlRXV5eUlOTt7W1tbf3FF188efKE7IiAIiCf1lYdHR04jguFwtTU1JkzZ5qami5evDg9Pb2jo4Ps0AAAAAAgF8lNoMvLy/fv3z9y5EgXF5ft27c/f/6c7NBAH0A+rfWI92FTU1NycvK0adMsLS3XrVt39+5dsuMCAAAAQB+IRCKEUGFhYVRU1ODBg4cMGRITE/PmzRuy4wK9k7G+R0pKiubj0A1lZWVcLlfd9/UoKyuT+TzxPqysrDx8+PDBgwednJyIG7BDh6pbWVmZjY0N2VEAAPqLzMxMskPoF7KysjAMU2sV3d25mbhI8fnz55GRkRERERMnTkQI3bp1S63BAPl1/dyXcX9EjUelUxwcHF6+fEl2FEDT/Pz84P6IAAANUHeGBzSMwWAQp8O6g2EYXKpIQZ0+92XM99DoHdB1i5+f39ixY9VdS25ubg8drK+vjxCytrYODw+fPn16p/vLa7Xk5GRqHp+wziMAQJOSk5PJHvZUxs/Pj5qfU5pp5+jo6O6+IGEYpq+vj2HYe++9d+DAAeh3Sun6uQ/zp3UEg8FACA0YMCA0NPTOnTtlZWV79uwxNDQkOy4AAAAA9AGdTkcIOTs7R0REFBUV3b9/f926dWQHBXpB/v0RgTL09fXb2to4HM6cOXPmzZs3Y8YM4n0IAAAAAC2ir68vFosHDhy4aNGiJUuWDBkyhOyIQB9A7qXFmEzmp59+unDhwo8++og4Pw0AAAAALdLa2ooQsrCwWLRo0YIFC8aMGUN2REARkE9rHzqdPnPmzPnz53/66acGBgZkhwMAAAAARZiamgYHB8+fP3/ixIl6ejAFV4tBPq19Bg8efOnSJbKjAAAAAIBSgoODyQ4BqAZ8GQIAAAAAAEBxfc6ns7Kyhg4dqqenh2GYhYXFrl271BGWTGfPnnV0dMQwDMMwS0vLRYsWaaxqHSbdqgQGg2Fubu7j4xMbG1tbW0t2gOqyd+9ec3NzDMO++eYbsmMBAACV6bejOurfA7vu9XvX3vz555+NjIwuXrxIbmAy9Tmf9vT0/PPPPz/88EOEUH5+/tatW9UQlWy+vr4vXrxwcnIyMjIqLy8/efKkxqrWYdKtiuN4R0dHRUVFSkqKg4NDeHi4m5vbw4cPyY5RLTZt2nTv3j2yowAAABXrt6M66t8Du+71e9fexCl8Xxuqz/cQCoVeXl5kR9GPYBhmbGzs4+Nz/PjxlJSUt2/fzpw5s76+nuy4AAAAKAJG9f5JJ/ud2IVPPvmE7EBkoHo+fezYsYqKCrKj6Kf8/PyCgoIqKir64Q9nAACge2BU75+g3zVABfl0YmIil8vlcDjnz5+fMWMGj8ezsbE5deoUsfXgwYMsFsvc3DwkJMTKyorFYnl5ed2/f5/YunbtWgaDYWlpSTxctWoVl8vFMKyqqgohFBYWtnHjxqKiIgzDnJ2d5Yznzp07w4YNMzIyYrFY7u7uV69eRQgtX76cmE7k5OSUnZ2NEFqyZAmHwzEyMrpw4QJCqL29fdu2bXZ2dmw2e8SIEcStrb/66isOqB0qEwAACIZJREFUh2NoaFhRUbFx48aBAwfm5+cr32JaJCgoCCH0yy+/EA9ltlLPBwBCKCMjY9y4cRwOh8fjubu7NzQ0dFeU8mR2mTx19XwoAgCAbtC6UR3BwK4K2tjvndy9e9fOzg7DsEOHDskTbXeBycwSVZDvSd+OnKhMnhuXT58+HSFUW1tLPIyMjEQI3bhxo76+vqKiYuLEiVwuVyQSEVuDg4O5XG5eXt67d+9yc3Pfe+89Q0PD0tJSYuvChQstLCwkJcfGxiKEKisriYe+vr5OTk7SVUvmBnUnNTV1+/btNTU11dXVnp6eZmZmkqJoNNrr168lr1ywYMGFCxeIvzdt2sRkMs+cOVNbWxsREaGnp/fgwQPJrq1bty4+Pn7u3Ll//vlnD1VT7X708sfTXasS7xZbW1viYc+tJPMAaGpq4vF4MTExQqGwvLx87ty5ROd2V1QP5Dw+u3ZZd3U9f/4cIXT48GHiH3s+FHtAtX4HAOgwhFBycnKvL9OKUR2Xe/zU/MAuZztrTP/s9069+erVK4RQfHw88bDn5LO7wLrLEpXM91SZTwuFQuJhQkICQqiwsJB4GBwcLN27Dx48QAjt2LGDeKjyfFpadHQ0QqiiogLH8fT0dITQrl27iE319fUuLi5tbW04jguFQg6HExgYSGxqaWlhMpkrV67sums9o1pepXw+jeM4MQcL70srSR8AT58+RQhdunRJusweiupBn/JpSTA91AX5NABA6yiZV+FUGtXxPubTmhzYdSyfxrWz3+XJp2VGK2dg0lmikvmeWuZPE/e+FovFMrd6eHhwOJxnz56po+pO9PX1EULt7e0IoQ8++GDw4MHfffcdjuMIodOnTwcGBtJoNIRQfn5+S0vL8OHDif9is9mWlpaaiZDimpubcRzn8XioL60kfQA4Ojqam5svWrRo+/btxcXFxAs02eDQuQAAIKEDo7rmq9MButHvPZOOVs7ApLNEJZFzPSKTyaysrFRT4ZcvX/bx8eHz+Uwm8/PPP5c8j2FYSEjIixcvbty4gRD6/vvvly1bRmxqbm5GCG3dulWyamNJSUlLS4uaItQiBQUFCCFXV1ekaCux2eybN296e3tHRUU5OjoGBgYKhUJNNjh0LgAASOjAqK5w5P2ZbvS7/HoIrLssUUkk5NNisbiurs7GxkaFZd6+fTsuLg4hVFpaOmfOHEtLy/v379fX18fExEi/LCgoiMViHT16ND8/n8fj2dvbE8/z+XyEUFxcnPSp+8zMTBVGqKWuXLmCEJoxYwZSopXc3NwuXrwoEAjCw8OTk5P37t2ryQaHzgUAAAkdGNWVibzf0o1+l193gfWcJSqDrqqC5Hfr1i0cxz09Pf8VAZ3e3cwQ+f3+++9cLhchlJOTIxaLV65c6ejoiBDCMEz6ZSYmJgEBAadPnzY0NFyxYoXkeVtbWxaL9fjxYyXD0DHl5eVxcXE2NjZLly5FiraSQCCoq6sbNmwYn8/fvXv3tWvX8vLyNNng8telkkMRAAAoSzdGdQQDex/pTL/Lr7vAes4SlaGh89MdHR21tbVtbW1PnjwJCwuzs7Mjlm5BCDk7O9fU1KSlpYnF4srKypKSEul/NDU1FQgExcXFjY2NMt8SYrH47du3t27dIvJpOzs7hFB6evq7d++eP38uWZhPIjQ0tLW19dKlS9LrgbNYrCVLlpw6dSoxMbGhoaG9vb2srOzNmzcqbQOqw3G8qampo6MDx/HKysrk5OQJEybQaLS0tDRixpVirSQQCEJCQp49eyYSibKzs0tKSjw9PTXZ4PLX1fOhCAAA2kVXR/U+Rd4PB3Yd7nf5dRdYr1mi4qTPhMuzfkJWVpabm5uenh5CyNLSMioqKiEhgcPhIIRcXFyKioqSkpKIDrO3ty8oKMBxPDg4WF9ff+DAgXQ6ncfjzZ49u6ioSFJgdXX15MmTWSyWg4PDmjVrNm/ejBBydnYmFtR79OiRvb09m8329vY+fPiwk5NTdzty7tw5osDw8HBTU1NjY2N/f39ikUInJyfJ8nw4jo8ePfqLL77otF+tra3h4eF2dnZ0Op3P5/v6+ubm5sbExLDZbISQra3tiRMnem4ZnHrrPMgTz4ULF0aMGMHhcBgMBtGtxCXA48aN+/LLL6urq6VfLLOVej4AiouLvby8TExMaDSatbV1ZGQksaaKzKJ6DlWe41Nml8msa9++fRYWFgghLpc7d+5cvLdDUcl2BgAAlUC9rfOgRaM6Lt/4ScrA3ms7a1g/7PdOvRkfH08sJc7hcGbNmtVr8tldYDKzxNWrVyuZ72G41M3QU1JSAgICcFXfHj0kJCQ1NbW6ulq1xSps5syZhw4dcnBwUHnJ/v7+CKHU1FSVl6wYqsWjJDUdn8rTsXYGAFAZhmHJycnz5s0jOxDVoOz4SbV2plo8SqJsv8upa/wamu+hkrVIlCGZK/LkyRPieyq58QAAAAAAAN1AwvWIpAgPDw8NDcVxfMmSJSdOnCA7HAAAAAAAoCPUfn46IiLi+PHj9fX1Dg4OZ86cUXd13eFwOK6urlOnTt2+ffuwYcPICgMAAAAAAOgYtefT0dHRra2tOI6/fPnSz89P3dV1Z9euXe3t7aWlpdLLegAAAAAAAKAkcu6PCAAAAAAAgG6AfBoAAAAAAADFQT4NAAAAAACA4iCfBgAAAAAAQHEy1ssjFqkGCsjKyvL09CQ7iv+SlZWlMx1aVlaGKHl8UrDfAQA6LC4uTntvhNFJVlYWouTATkHQ79TR9XP/v/JpW1tbEpfg0AGenp7jx48nO4r/oFQwyrOxsaHm8Um1fgcA6DBqDoMKo+zJCD8/P1tbW7Kj+A/od0rp+rmPUfDuzQAAAAAAAGgLmD8NAAAAAACA4iCfBgAAAAAAQHGQTwMAAAAAAKA4yKcBAAAAAABQ3P8D9Wbvm9woYWoAAAAASUVORK5CYII=)"
   ]
  },
  {
   "cell_type": "markdown",
   "id": "989db222",
   "metadata": {
    "id": "989db222"
   },
   "source": [
    "# Parameters"
   ]
  },
  {
   "cell_type": "code",
   "execution_count": 6,
   "id": "90bd21f3",
   "metadata": {
    "id": "90bd21f3"
   },
   "outputs": [],
   "source": [
    "data = [x1, x2]\n",
    "hid_neuron = [128, 10]\n",
    "mid_neuron = 64\n",
    "lambda_act = 0.0001\n",
    "lambda_weight = 0.001\n",
    "bs=16\n",
    "epochs=25\n",
    "verbose=0"
   ]
  },
  {
   "cell_type": "markdown",
   "id": "0729d128",
   "metadata": {
    "id": "0729d128"
   },
   "source": [
    "# UMINT"
   ]
  },
  {
   "cell_type": "code",
   "execution_count": 7,
   "id": "9e83559f",
   "metadata": {
    "id": "c45e1df6",
    "outputId": "86b735b6-b70b-4653-e125-37c54fb6365f"
   },
   "outputs": [],
   "source": [
    "model, encoder, decoder = umint.UMINT.train_umint(data, hid_neuron, mid=mid_neuron, lambda_act=lambda_act,\n",
    "                                                  bs=bs, epochs=epochs, lambda_weight=lambda_weight,\n",
    "                                                  verbose=verbose)"
   ]
  },
  {
   "cell_type": "markdown",
   "id": "fdeedc43",
   "metadata": {},
   "source": [
    "# Saving models for feature selection"
   ]
  },
  {
   "cell_type": "code",
   "execution_count": 8,
   "id": "178a67db",
   "metadata": {},
   "outputs": [
    {
     "name": "stdout",
     "output_type": "stream",
     "text": [
      "WARNING:tensorflow:Compiled the loaded model, but the compiled metrics have yet to be built. `model.compile_metrics` will be empty until you train or evaluate the model.\n",
      "WARNING:tensorflow:Compiled the loaded model, but the compiled metrics have yet to be built. `model.compile_metrics` will be empty until you train or evaluate the model.\n"
     ]
    }
   ],
   "source": [
    "model.save(\"UMINT_\"+dataname+\".h5\")\n",
    "encoder.save(\"UMINT_encoder_\"+dataname+\".h5\")\n",
    "decoder.save(\"UMINT_decoder_\"+dataname+\".h5\")"
   ]
  },
  {
   "cell_type": "markdown",
   "id": "ded92e56",
   "metadata": {},
   "source": [
    "# Embeddings (UMINT, UMINT+UMAP) "
   ]
  },
  {
   "cell_type": "code",
   "execution_count": 9,
   "id": "c45e1df6",
   "metadata": {
    "id": "c45e1df6",
    "outputId": "86b735b6-b70b-4653-e125-37c54fb6365f",
    "scrolled": false
   },
   "outputs": [
    {
     "name": "stdout",
     "output_type": "stream",
     "text": [
      "270/270 [==============================] - 0s 1ms/step\n"
     ]
    }
   ],
   "source": [
    "low = encoder.predict(data)\n",
    "low_umap = umap.UMAP().fit_transform(low)"
   ]
  },
  {
   "cell_type": "markdown",
   "id": "55b2e125",
   "metadata": {},
   "source": [
    "# Saving embeddings"
   ]
  },
  {
   "cell_type": "code",
   "execution_count": 10,
   "id": "fa15be93",
   "metadata": {},
   "outputs": [],
   "source": [
    "pd.DataFrame(low).to_csv('UMINT_'+dataname+'.csv')\n",
    "pd.DataFrame(low_umap).to_csv('UMAP_UMINT_'+dataname+'.csv')"
   ]
  },
  {
   "cell_type": "code",
   "execution_count": null,
   "id": "eacd89cb",
   "metadata": {},
   "outputs": [],
   "source": []
  }
 ],
 "metadata": {
  "kernelspec": {
   "display_name": "Python 3 (ipykernel)",
   "language": "python",
   "name": "python3"
  },
  "language_info": {
   "codemirror_mode": {
    "name": "ipython",
    "version": 3
   },
   "file_extension": ".py",
   "mimetype": "text/x-python",
   "name": "python",
   "nbconvert_exporter": "python",
   "pygments_lexer": "ipython3",
   "version": "3.7.16"
  }
 },
 "nbformat": 4,
 "nbformat_minor": 5
}
