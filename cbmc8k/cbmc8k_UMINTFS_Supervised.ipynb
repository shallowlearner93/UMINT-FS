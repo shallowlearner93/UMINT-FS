{
 "cells": [
  {
   "cell_type": "markdown",
   "id": "add8f876",
   "metadata": {
    "id": "add8f876"
   },
   "source": [
    "# Importing libraries"
   ]
  },
  {
   "cell_type": "code",
   "execution_count": 1,
   "id": "b8783ccf",
   "metadata": {},
   "outputs": [],
   "source": [
    "import warnings\n",
    "warnings.simplefilter(action='ignore')\n",
    "\n",
    "import os\n",
    "os.environ['TF_CPP_MIN_LOG_LEVEL'] = '3' \n",
    "\n",
    "import sys\n",
    "sys.path.append('/home/chayan/UMINTFS/')\n",
    "\n",
    "import numpy as np\n",
    "import pandas as pd\n",
    "import tensorflow as tf\n",
    "from utills import umint\n",
    "from utills import datasets as ds"
   ]
  },
  {
   "cell_type": "markdown",
   "id": "94d266c5",
   "metadata": {
    "id": "94d266c5"
   },
   "source": [
    "# Loading data and models"
   ]
  },
  {
   "cell_type": "code",
   "execution_count": 2,
   "id": "4e133c96",
   "metadata": {
    "id": "4e133c96"
   },
   "outputs": [],
   "source": [
    "dataname = 'cbmc8k'\n",
    "x1, x2, y = ds.LoadData(dataname)"
   ]
  },
  {
   "cell_type": "code",
   "execution_count": 3,
   "id": "766321af",
   "metadata": {},
   "outputs": [],
   "source": [
    "encoder = tf.keras.models.load_model(\"UMINT_encoder_\"+dataname+\".h5\", compile=False)"
   ]
  },
  {
   "cell_type": "markdown",
   "id": "4b7c53f1",
   "metadata": {},
   "source": [
    "# Parameters"
   ]
  },
  {
   "cell_type": "code",
   "execution_count": 4,
   "id": "3fdf4e3f",
   "metadata": {},
   "outputs": [],
   "source": [
    "data = [x1, x2]\n",
    "num_fs = [10,5]"
   ]
  },
  {
   "cell_type": "markdown",
   "id": "c1d16970",
   "metadata": {},
   "source": [
    "# Run UMINTFS in a Supervised manner."
   ]
  },
  {
   "cell_type": "markdown",
   "id": "f2fc33d4",
   "metadata": {},
   "source": [
    "## Finding a cell-type specific merkers."
   ]
  },
  {
   "cell_type": "code",
   "execution_count": 5,
   "id": "45e0f146",
   "metadata": {},
   "outputs": [
    {
     "data": {
      "text/plain": [
       "[['CD79A',\n",
       "  'TCL1A',\n",
       "  'CD79B',\n",
       "  'HLA-DRA',\n",
       "  'CD74',\n",
       "  'IGHD',\n",
       "  'IGHM',\n",
       "  'LINC00926',\n",
       "  'MS4A1',\n",
       "  'HLA-DRB1'],\n",
       " ['CD45RA', 'CD19', 'CD14', 'CD16', 'CD4']]"
      ]
     },
     "execution_count": 5,
     "metadata": {},
     "output_type": "execute_result"
    }
   ],
   "source": [
    "cell_type = 'B'\n",
    "Marker = umint.UMINT.Find_Markers(data, y, encoder, cell_type, num_fs)\n",
    "Marker"
   ]
  },
  {
   "cell_type": "markdown",
   "id": "c70ebb5b",
   "metadata": {},
   "source": [
    "## Finding all cell-type specific markers."
   ]
  },
  {
   "cell_type": "code",
   "execution_count": 6,
   "id": "ba805a95",
   "metadata": {
    "scrolled": false
   },
   "outputs": [
    {
     "name": "stderr",
     "output_type": "stream",
     "text": [
      "100%|███████████████████████████████████████████| 15/15 [03:08<00:00, 12.55s/it]\n"
     ]
    }
   ],
   "source": [
    "Markers = umint.UMINT.Find_All_Markers(data, y, encoder, num_fs)"
   ]
  },
  {
   "cell_type": "markdown",
   "id": "0abd78c8",
   "metadata": {},
   "source": [
    "# Saving the results"
   ]
  },
  {
   "cell_type": "code",
   "execution_count": 7,
   "id": "eb952236",
   "metadata": {},
   "outputs": [],
   "source": [
    "import pickle \n",
    "\n",
    "with open('UMINTFS_'+dataname+'_Supervised.pkl', 'wb') as f:\n",
    "    pickle.dump(Markers, f)"
   ]
  },
  {
   "cell_type": "markdown",
   "id": "51ddc3a4",
   "metadata": {},
   "source": [
    "with open('UMINTFS_'+dataname+'_Supervised.pkl', 'rb') as f:\n",
    "    loaded_dict = pickle.load(f)"
   ]
  },
  {
   "cell_type": "markdown",
   "id": "015fa08d",
   "metadata": {},
   "source": [
    "# Saving unique selected features list for further downstream analysis"
   ]
  },
  {
   "cell_type": "code",
   "execution_count": 8,
   "id": "6cecf91f",
   "metadata": {},
   "outputs": [],
   "source": [
    "markers_set = set()\n",
    "for i in Markers.keys():\n",
    "    markers_set = markers_set.union(set(Markers[i][0]))"
   ]
  },
  {
   "cell_type": "code",
   "execution_count": 9,
   "id": "d11737e5",
   "metadata": {},
   "outputs": [],
   "source": [
    "UMINTFS_Supervised_RNA = x1[markers_set]\n",
    "UMINTFS_Supervised_RNA.to_csv('UMINTFS_Supervised_'+dataname+'_rna.csv')"
   ]
  },
  {
   "cell_type": "code",
   "execution_count": null,
   "id": "03d1fac1",
   "metadata": {},
   "outputs": [],
   "source": []
  }
 ],
 "metadata": {
  "kernelspec": {
   "display_name": "Python 3 (ipykernel)",
   "language": "python",
   "name": "python3"
  },
  "language_info": {
   "codemirror_mode": {
    "name": "ipython",
    "version": 3
   },
   "file_extension": ".py",
   "mimetype": "text/x-python",
   "name": "python",
   "nbconvert_exporter": "python",
   "pygments_lexer": "ipython3",
   "version": "3.7.16"
  }
 },
 "nbformat": 4,
 "nbformat_minor": 5
}
