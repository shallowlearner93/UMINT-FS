{
 "cells": [
  {
   "cell_type": "markdown",
   "id": "add8f876",
   "metadata": {
    "id": "add8f876"
   },
   "source": [
    "# Importing libraries"
   ]
  },
  {
   "cell_type": "code",
   "execution_count": 1,
   "id": "b8783ccf",
   "metadata": {},
   "outputs": [],
   "source": [
    "import warnings\n",
    "warnings.simplefilter(action='ignore')\n",
    "\n",
    "import os\n",
    "os.environ['TF_CPP_MIN_LOG_LEVEL'] = '3' \n",
    "\n",
    "import sys\n",
    "sys.path.append('/home/chayan/UMINTFS/')\n",
    "\n",
    "import numpy as np\n",
    "import pandas as pd\n",
    "import tensorflow as tf\n",
    "from utills import umint\n",
    "from utills import datasets as ds"
   ]
  },
  {
   "cell_type": "markdown",
   "id": "94d266c5",
   "metadata": {
    "id": "94d266c5"
   },
   "source": [
    "# Loading data and models"
   ]
  },
  {
   "cell_type": "code",
   "execution_count": 2,
   "id": "4e133c96",
   "metadata": {
    "id": "4e133c96"
   },
   "outputs": [],
   "source": [
    "dataname = 'cbmc8k'\n",
    "x1, x2, y = ds.LoadData(dataname)"
   ]
  },
  {
   "cell_type": "code",
   "execution_count": 3,
   "id": "766321af",
   "metadata": {},
   "outputs": [],
   "source": [
    "encoder = tf.keras.models.load_model(\"UMINT_encoder_\"+dataname+\".h5\", compile=False)\n",
    "decoder = tf.keras.models.load_model(\"UMINT_decoder_\"+dataname+\".h5\", compile=False)"
   ]
  },
  {
   "cell_type": "markdown",
   "id": "4b7c53f1",
   "metadata": {},
   "source": [
    "# Parameters"
   ]
  },
  {
   "cell_type": "code",
   "execution_count": 4,
   "id": "bc9276f8",
   "metadata": {},
   "outputs": [],
   "source": [
    "data = [x1, x2]\n",
    "FStype = 'top'\n",
    "num_fs = [64, 10]"
   ]
  },
  {
   "cell_type": "markdown",
   "id": "c1d16970",
   "metadata": {},
   "source": [
    "# Run UMINTFS in an Unsupervised manner."
   ]
  },
  {
   "cell_type": "code",
   "execution_count": 5,
   "id": "6b38c0d3",
   "metadata": {},
   "outputs": [],
   "source": [
    "top_features = umint.UMINT.UMINTFS(data, encoder, decoder, num_fs)"
   ]
  },
  {
   "cell_type": "markdown",
   "id": "130ffbb7",
   "metadata": {},
   "source": [
    "# Modality wise top features"
   ]
  },
  {
   "cell_type": "code",
   "execution_count": 6,
   "id": "fe8ae803",
   "metadata": {},
   "outputs": [
    {
     "data": {
      "text/html": [
       "<div>\n",
       "<style scoped>\n",
       "    .dataframe tbody tr th:only-of-type {\n",
       "        vertical-align: middle;\n",
       "    }\n",
       "\n",
       "    .dataframe tbody tr th {\n",
       "        vertical-align: top;\n",
       "    }\n",
       "\n",
       "    .dataframe thead th {\n",
       "        text-align: right;\n",
       "    }\n",
       "</style>\n",
       "<table border=\"1\" class=\"dataframe\">\n",
       "  <thead>\n",
       "    <tr style=\"text-align: right;\">\n",
       "      <th></th>\n",
       "      <th>feature_name</th>\n",
       "      <th>feature_score</th>\n",
       "    </tr>\n",
       "  </thead>\n",
       "  <tbody>\n",
       "    <tr>\n",
       "      <th>0</th>\n",
       "      <td>CD79A</td>\n",
       "      <td>0.016079</td>\n",
       "    </tr>\n",
       "    <tr>\n",
       "      <th>1</th>\n",
       "      <td>HLA-DRA</td>\n",
       "      <td>0.014925</td>\n",
       "    </tr>\n",
       "    <tr>\n",
       "      <th>2</th>\n",
       "      <td>CD74</td>\n",
       "      <td>0.014021</td>\n",
       "    </tr>\n",
       "    <tr>\n",
       "      <th>3</th>\n",
       "      <td>IGHM</td>\n",
       "      <td>0.014018</td>\n",
       "    </tr>\n",
       "    <tr>\n",
       "      <th>4</th>\n",
       "      <td>FCGR3A</td>\n",
       "      <td>0.013908</td>\n",
       "    </tr>\n",
       "  </tbody>\n",
       "</table>\n",
       "</div>"
      ],
      "text/plain": [
       "  feature_name  feature_score\n",
       "0        CD79A       0.016079\n",
       "1      HLA-DRA       0.014925\n",
       "2         CD74       0.014021\n",
       "3         IGHM       0.014018\n",
       "4       FCGR3A       0.013908"
      ]
     },
     "execution_count": 6,
     "metadata": {},
     "output_type": "execute_result"
    }
   ],
   "source": [
    "top_features[0].head()"
   ]
  },
  {
   "cell_type": "code",
   "execution_count": 7,
   "id": "c57129bb",
   "metadata": {},
   "outputs": [
    {
     "data": {
      "text/html": [
       "<div>\n",
       "<style scoped>\n",
       "    .dataframe tbody tr th:only-of-type {\n",
       "        vertical-align: middle;\n",
       "    }\n",
       "\n",
       "    .dataframe tbody tr th {\n",
       "        vertical-align: top;\n",
       "    }\n",
       "\n",
       "    .dataframe thead th {\n",
       "        text-align: right;\n",
       "    }\n",
       "</style>\n",
       "<table border=\"1\" class=\"dataframe\">\n",
       "  <thead>\n",
       "    <tr style=\"text-align: right;\">\n",
       "      <th></th>\n",
       "      <th>feature_name</th>\n",
       "      <th>feature_score</th>\n",
       "    </tr>\n",
       "  </thead>\n",
       "  <tbody>\n",
       "    <tr>\n",
       "      <th>0</th>\n",
       "      <td>CD4</td>\n",
       "      <td>0.194778</td>\n",
       "    </tr>\n",
       "    <tr>\n",
       "      <th>1</th>\n",
       "      <td>CD45RA</td>\n",
       "      <td>0.187812</td>\n",
       "    </tr>\n",
       "    <tr>\n",
       "      <th>2</th>\n",
       "      <td>CD8</td>\n",
       "      <td>0.181009</td>\n",
       "    </tr>\n",
       "    <tr>\n",
       "      <th>3</th>\n",
       "      <td>CD3</td>\n",
       "      <td>0.166781</td>\n",
       "    </tr>\n",
       "    <tr>\n",
       "      <th>4</th>\n",
       "      <td>CD14</td>\n",
       "      <td>0.139280</td>\n",
       "    </tr>\n",
       "  </tbody>\n",
       "</table>\n",
       "</div>"
      ],
      "text/plain": [
       "  feature_name  feature_score\n",
       "0          CD4       0.194778\n",
       "1       CD45RA       0.187812\n",
       "2          CD8       0.181009\n",
       "3          CD3       0.166781\n",
       "4         CD14       0.139280"
      ]
     },
     "execution_count": 7,
     "metadata": {},
     "output_type": "execute_result"
    }
   ],
   "source": [
    "top_features[1].head()"
   ]
  },
  {
   "cell_type": "markdown",
   "id": "553b10a1",
   "metadata": {},
   "source": [
    "# Saving the results"
   ]
  },
  {
   "cell_type": "code",
   "execution_count": 8,
   "id": "6c1105fb",
   "metadata": {},
   "outputs": [],
   "source": [
    "top_features[0].to_csv('UMINTFS_'+dataname+'_top_RNA_unsupervised.csv')\n",
    "top_features[1].to_csv('UMINTFS_'+dataname+'_top_ADT_unsupervised.csv')"
   ]
  },
  {
   "cell_type": "code",
   "execution_count": 9,
   "id": "cf6ff1c8",
   "metadata": {},
   "outputs": [],
   "source": [
    "UMINTFS_RNA = x1[top_features[0]['feature_name']]\n",
    "UMINTFS_RNA.to_csv('UMINTFS_'+dataname+'_rna.csv')"
   ]
  },
  {
   "cell_type": "code",
   "execution_count": null,
   "id": "bcd460fc",
   "metadata": {},
   "outputs": [],
   "source": []
  }
 ],
 "metadata": {
  "kernelspec": {
   "display_name": "Python 3 (ipykernel)",
   "language": "python",
   "name": "python3"
  },
  "language_info": {
   "codemirror_mode": {
    "name": "ipython",
    "version": 3
   },
   "file_extension": ".py",
   "mimetype": "text/x-python",
   "name": "python",
   "nbconvert_exporter": "python",
   "pygments_lexer": "ipython3",
   "version": "3.7.16"
  }
 },
 "nbformat": 4,
 "nbformat_minor": 5
}
