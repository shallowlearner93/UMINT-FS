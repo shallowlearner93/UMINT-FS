{
 "cells": [
  {
   "cell_type": "markdown",
   "id": "1e0d7615",
   "metadata": {},
   "source": [
    "# Importing libraries"
   ]
  },
  {
   "cell_type": "code",
   "execution_count": 1,
   "id": "0f59de2b",
   "metadata": {},
   "outputs": [],
   "source": [
    "import warnings\n",
    "warnings.simplefilter(action='ignore')\n",
    "\n",
    "import os\n",
    "os.environ['TF_CPP_MIN_LOG_LEVEL'] = '3' \n",
    "\n",
    "import sys\n",
    "sys.path.append('/home/chayan/UMINTFS/')\n",
    "\n",
    "import muon as mu\n",
    "import numpy as np\n",
    "import pandas as pd\n",
    "import scanpy as sc\n",
    "import pickle as pkl\n",
    "import seaborn as sns\n",
    "from anndata import AnnData\n",
    "from matplotlib import pyplot as plt\n",
    "from utills import datasets as ds"
   ]
  },
  {
   "cell_type": "markdown",
   "id": "94d266c5",
   "metadata": {
    "id": "94d266c5"
   },
   "source": [
    "# Loading Data"
   ]
  },
  {
   "cell_type": "code",
   "execution_count": 2,
   "id": "4e133c96",
   "metadata": {
    "id": "4e133c96"
   },
   "outputs": [],
   "source": [
    "dataname = 'pbmc10k_atac'\n",
    "x1, x2, y = ds.LoadData(dataname)"
   ]
  },
  {
   "cell_type": "code",
   "execution_count": 3,
   "id": "a60953bf",
   "metadata": {},
   "outputs": [],
   "source": [
    "adata_rna = AnnData(X=x1, obs=y)\n",
    "adata_atac = AnnData(X=x2, obs=y)"
   ]
  },
  {
   "cell_type": "code",
   "execution_count": 4,
   "id": "f64ef5ec",
   "metadata": {},
   "outputs": [
    {
     "data": {
      "text/html": [
       "<pre>MuData object with n_obs × n_vars = 7563 × 22456\n",
       "  2 modalities\n",
       "    rna:\t7563 x 3026\n",
       "      obs:\t&#x27;celltype&#x27;\n",
       "    atac:\t7563 x 19430\n",
       "      obs:\t&#x27;celltype&#x27;</pre>"
      ],
      "text/plain": [
       "MuData object with n_obs × n_vars = 7563 × 22456\n",
       "  2 modalities\n",
       "    rna:\t7563 x 3026\n",
       "      obs:\t'celltype'\n",
       "    atac:\t7563 x 19430\n",
       "      obs:\t'celltype'"
      ]
     },
     "execution_count": 4,
     "metadata": {},
     "output_type": "execute_result"
    }
   ],
   "source": [
    "mdata = mu.MuData({'rna': adata_rna, 'atac': adata_atac})\n",
    "mdata"
   ]
  },
  {
   "cell_type": "code",
   "execution_count": 5,
   "id": "95e32e56",
   "metadata": {},
   "outputs": [
    {
     "data": {
      "text/html": [
       "<pre>MuData object with n_obs × n_vars = 7563 × 22456\n",
       "  2 modalities\n",
       "    rna:\t7563 x 3026\n",
       "      obs:\t&#x27;celltype&#x27;\n",
       "    atac:\t7563 x 19430\n",
       "      obs:\t&#x27;celltype&#x27;</pre>"
      ],
      "text/plain": [
       "MuData object with n_obs × n_vars = 7563 × 22456\n",
       "  2 modalities\n",
       "    rna:\t7563 x 3026\n",
       "      obs:\t'celltype'\n",
       "    atac:\t7563 x 19430\n",
       "      obs:\t'celltype'"
      ]
     },
     "execution_count": 5,
     "metadata": {},
     "output_type": "execute_result"
    }
   ],
   "source": [
    "mu.pp.intersect_obs(mdata)\n",
    "mdata"
   ]
  },
  {
   "cell_type": "markdown",
   "id": "66627773",
   "metadata": {},
   "source": [
    "# Run MOFA+"
   ]
  },
  {
   "cell_type": "code",
   "execution_count": 6,
   "id": "3c6e4d2d",
   "metadata": {},
   "outputs": [
    {
     "name": "stdout",
     "output_type": "stream",
     "text": [
      "\n",
      "        #########################################################\n",
      "        ###           __  __  ____  ______                    ### \n",
      "        ###          |  \\/  |/ __ \\|  ____/\\    _             ### \n",
      "        ###          | \\  / | |  | | |__ /  \\ _| |_           ### \n",
      "        ###          | |\\/| | |  | |  __/ /\\ \\_   _|          ###\n",
      "        ###          | |  | | |__| | | / ____ \\|_|            ###\n",
      "        ###          |_|  |_|\\____/|_|/_/    \\_\\              ###\n",
      "        ###                                                   ### \n",
      "        ######################################################### \n",
      "       \n",
      " \n",
      "        \n",
      "Loaded view='rna' group='group1' with N=7563 samples and D=3026 features...\n",
      "Loaded view='atac' group='group1' with N=7563 samples and D=19430 features...\n",
      "\n",
      "\n",
      "Model options:\n",
      "- Automatic Relevance Determination prior on the factors: True\n",
      "- Automatic Relevance Determination prior on the weights: True\n",
      "- Spike-and-slab prior on the factors: False\n",
      "- Spike-and-slab prior on the weights: True\n",
      "Likelihoods:\n",
      "- View 0 (rna): gaussian\n",
      "- View 1 (atac): gaussian\n",
      "\n",
      "\n",
      "\n",
      "\n",
      "######################################\n",
      "## Training the model with seed 1 ##\n",
      "######################################\n",
      "\n",
      "\n",
      "\n",
      "Converged!\n",
      "\n",
      "\n",
      "\n",
      "#######################\n",
      "## Training finished ##\n",
      "#######################\n",
      "\n",
      "\n",
      "Warning: Output file pbmc10k_atac_MUON.hdf5 already exists, it will be replaced\n",
      "Saving model in pbmc10k_atac_MUON.hdf5...\n",
      "Saved MOFA embeddings in .obsm['X_mofa'] slot and their loadings in .varm['LFs'].\n"
     ]
    }
   ],
   "source": [
    "mu.tl.mofa(mdata, outfile=dataname+\"_MUON.hdf5\")"
   ]
  },
  {
   "cell_type": "code",
   "execution_count": 7,
   "id": "601a583b",
   "metadata": {},
   "outputs": [
    {
     "data": {
      "text/plain": [
       "(7563, 10)"
      ]
     },
     "execution_count": 7,
     "metadata": {},
     "output_type": "execute_result"
    }
   ],
   "source": [
    "mdata.obsm['X_mofa'].shape"
   ]
  },
  {
   "cell_type": "markdown",
   "id": "208dcd6d",
   "metadata": {},
   "source": [
    "# Find neighbours using the integrated assay"
   ]
  },
  {
   "cell_type": "code",
   "execution_count": 8,
   "id": "345180ff",
   "metadata": {},
   "outputs": [
    {
     "data": {
      "text/html": [
       "<pre>MuData object with n_obs × n_vars = 7563 × 22456\n",
       "  obsm:\t&#x27;X_mofa&#x27;\n",
       "  varm:\t&#x27;LFs&#x27;\n",
       "  obsp:\t&#x27;distances&#x27;, &#x27;connectivities&#x27;\n",
       "  2 modalities\n",
       "    rna:\t7563 x 3026\n",
       "      obs:\t&#x27;celltype&#x27;\n",
       "    atac:\t7563 x 19430\n",
       "      obs:\t&#x27;celltype&#x27;</pre>"
      ],
      "text/plain": [
       "MuData object with n_obs × n_vars = 7563 × 22456\n",
       "  obsm:\t'X_mofa'\n",
       "  varm:\t'LFs'\n",
       "  obsp:\t'distances', 'connectivities'\n",
       "  2 modalities\n",
       "    rna:\t7563 x 3026\n",
       "      obs:\t'celltype'\n",
       "    atac:\t7563 x 19430\n",
       "      obs:\t'celltype'"
      ]
     },
     "execution_count": 8,
     "metadata": {},
     "output_type": "execute_result"
    }
   ],
   "source": [
    "sc.pp.neighbors(mdata, use_rep=\"X_mofa\")\n",
    "mdata"
   ]
  },
  {
   "cell_type": "markdown",
   "id": "f2207cad",
   "metadata": {},
   "source": [
    "# Find clusters using Leiden"
   ]
  },
  {
   "cell_type": "code",
   "execution_count": 9,
   "id": "617181a8",
   "metadata": {},
   "outputs": [
    {
     "data": {
      "text/html": [
       "<pre>MuData object with n_obs × n_vars = 7563 × 22456\n",
       "  obs:\t&#x27;leiden_joint&#x27;\n",
       "  obsm:\t&#x27;X_mofa&#x27;\n",
       "  varm:\t&#x27;LFs&#x27;\n",
       "  obsp:\t&#x27;distances&#x27;, &#x27;connectivities&#x27;\n",
       "  2 modalities\n",
       "    rna:\t7563 x 3026\n",
       "      obs:\t&#x27;celltype&#x27;\n",
       "    atac:\t7563 x 19430\n",
       "      obs:\t&#x27;celltype&#x27;</pre>"
      ],
      "text/plain": [
       "MuData object with n_obs × n_vars = 7563 × 22456\n",
       "  obs:\t'leiden_joint'\n",
       "  obsm:\t'X_mofa'\n",
       "  varm:\t'LFs'\n",
       "  obsp:\t'distances', 'connectivities'\n",
       "  2 modalities\n",
       "    rna:\t7563 x 3026\n",
       "      obs:\t'celltype'\n",
       "    atac:\t7563 x 19430\n",
       "      obs:\t'celltype'"
      ]
     },
     "execution_count": 9,
     "metadata": {},
     "output_type": "execute_result"
    }
   ],
   "source": [
    "sc.tl.leiden(mdata, key_added='leiden_joint')\n",
    "mdata"
   ]
  },
  {
   "cell_type": "code",
   "execution_count": 10,
   "id": "5ec775c7",
   "metadata": {},
   "outputs": [],
   "source": [
    "mdata['rna'].obs['leiden_joint'] = mdata.obs.leiden_joint\n",
    "mdata['atac'].obs['leiden_joint'] = mdata.obs.leiden_joint"
   ]
  },
  {
   "cell_type": "markdown",
   "id": "b33192c6",
   "metadata": {},
   "source": [
    "# Find top features (Leiden cell-type specific)"
   ]
  },
  {
   "cell_type": "code",
   "execution_count": 11,
   "id": "71180031",
   "metadata": {},
   "outputs": [],
   "source": [
    "sc.tl.rank_genes_groups(mdata['rna'], 'leiden_joint', method='t-test_overestim_var')"
   ]
  },
  {
   "cell_type": "markdown",
   "id": "e704de09",
   "metadata": {},
   "source": [
    "# Saving the results"
   ]
  },
  {
   "cell_type": "code",
   "execution_count": 12,
   "id": "01022c3c",
   "metadata": {},
   "outputs": [],
   "source": [
    "result = {}\n",
    "result['rna'] = mdata['rna'].uns['rank_genes_groups']\n",
    "result['rna']['genes'] = result['rna']['names']\n",
    "groups = result['rna']['names'].dtype.names\n",
    "\n",
    "top_Genes = [set(result['rna']['genes'][j][:10]) for j in groups]\n",
    "top_Genes_dict = dict(enumerate(top_Genes))\n",
    "top_Genes = set().union(*top_Genes)"
   ]
  },
  {
   "cell_type": "code",
   "execution_count": 13,
   "id": "967627d6",
   "metadata": {},
   "outputs": [],
   "source": [
    "x1[top_Genes].to_csv('MUON_Supervised_'+dataname+'_rna.csv')\n",
    "mdata['rna'].obs['leiden_joint'].to_csv('MUON_Leiden_lables_'+dataname+'.csv')"
   ]
  },
  {
   "cell_type": "code",
   "execution_count": 14,
   "id": "ae12435a",
   "metadata": {},
   "outputs": [],
   "source": [
    "with open('MUON_Supervised_'+dataname+'.pkl', 'wb') as f:\n",
    "        pkl.dump(top_Genes_dict, f)"
   ]
  },
  {
   "cell_type": "code",
   "execution_count": 15,
   "id": "7632be0c",
   "metadata": {},
   "outputs": [],
   "source": [
    "mdata.write(dataname+\"_mudata_muon.h5mu\")"
   ]
  },
  {
   "cell_type": "code",
   "execution_count": null,
   "id": "9e543e78",
   "metadata": {},
   "outputs": [],
   "source": []
  }
 ],
 "metadata": {
  "kernelspec": {
   "display_name": "Python 3 (ipykernel)",
   "language": "python",
   "name": "python3"
  },
  "language_info": {
   "codemirror_mode": {
    "name": "ipython",
    "version": 3
   },
   "file_extension": ".py",
   "mimetype": "text/x-python",
   "name": "python",
   "nbconvert_exporter": "python",
   "pygments_lexer": "ipython3",
   "version": "3.7.16"
  }
 },
 "nbformat": 4,
 "nbformat_minor": 5
}
